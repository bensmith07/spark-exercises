{
 "cells": [
  {
   "cell_type": "code",
   "execution_count": 1,
   "id": "b364595c",
   "metadata": {},
   "outputs": [
    {
     "name": "stderr",
     "output_type": "stream",
     "text": [
      "WARNING: An illegal reflective access operation has occurred\n",
      "WARNING: Illegal reflective access by org.apache.spark.unsafe.Platform (file:/opt/homebrew/anaconda3/lib/python3.9/site-packages/pyspark/jars/spark-unsafe_2.12-3.2.1.jar) to constructor java.nio.DirectByteBuffer(long,int)\n",
      "WARNING: Please consider reporting this to the maintainers of org.apache.spark.unsafe.Platform\n",
      "WARNING: Use --illegal-access=warn to enable warnings of further illegal reflective access operations\n",
      "WARNING: All illegal access operations will be denied in a future release\n",
      "Using Spark's default log4j profile: org/apache/spark/log4j-defaults.properties\n",
      "Setting default log level to \"WARN\".\n",
      "To adjust logging level use sc.setLogLevel(newLevel). For SparkR, use setLogLevel(newLevel).\n",
      "22/05/20 17:11:53 WARN NativeCodeLoader: Unable to load native-hadoop library for your platform... using builtin-java classes where applicable\n",
      "22/05/20 17:11:54 WARN Utils: Service 'SparkUI' could not bind on port 4040. Attempting port 4041.\n"
     ]
    }
   ],
   "source": [
    "import warnings\n",
    "\n",
    "warnings.filterwarnings(\"ignore\")\n",
    "\n",
    "import pyspark.sql\n",
    "import pyspark.sql.functions as F\n",
    "\n",
    "import numpy as np\n",
    "import pandas as pd\n",
    "\n",
    "%matplotlib inline\n",
    "import matplotlib.pyplot as plt\n",
    "import seaborn as sns\n",
    "\n",
    "spark = pyspark.sql.SparkSession.builder.getOrCreate()\n",
    "\n",
    "def display(spark_df, rows=3):\n",
    "    return spark_df.limit(rows).toPandas()\n",
    "\n",
    "pd.set_option('display.max_columns', 100)\n",
    "pd.set_option('display.max_rows', 200)"
   ]
  },
  {
   "cell_type": "code",
   "execution_count": 2,
   "id": "f01ff8f0",
   "metadata": {},
   "outputs": [
    {
     "name": "stderr",
     "output_type": "stream",
     "text": [
      "                                                                                \r"
     ]
    }
   ],
   "source": [
    "case = spark.read.csv('case.csv', \n",
    "                       sep=',', \n",
    "                       header=True, \n",
    "                       inferSchema=True)\n",
    "\n",
    "dept = spark.read.csv('dept.csv', \n",
    "                       sep=',', \n",
    "                       header=True, \n",
    "                       inferSchema=True)\n",
    "\n",
    "source = spark.read.csv('source.csv', \n",
    "                         sep=',', \n",
    "                         header=True,\n",
    "                         inferSchema=True)\n",
    "\n",
    "fmt = 'M/d/yy H:mm'\n",
    "\n",
    "case = (\n",
    "    case.withColumn('case_id', case.case_id.cast('string'))\n",
    "        .withColumn('case_opened_date', F.to_timestamp('case_opened_date', fmt))\n",
    "        .withColumn('case_closed_date', F.to_timestamp('case_closed_date', fmt))\n",
    "        .withColumnRenamed('SLA_due_date', 'case_due_date')\n",
    "        .withColumn('case_due_date', F.to_timestamp('case_due_date', fmt))\n",
    "        .withColumn('case_closed', F.expr('case_closed == \"YES\"'))\n",
    "        .withColumn('case_late', F.expr('case_late == \"YES\"'))\n",
    "        .withColumn('council_district', case.council_district.cast('string'))\n",
    "        .withColumn('case_age', F.datediff(F.current_timestamp(), 'case_opened_date'))\n",
    "        .withColumn('days_to_closed', F.datediff('case_closed_date', 'case_opened_date'))\n",
    "        .withColumn('case_lifetime', F.when(F.expr('! case_closed'), F.col('case_age'))\n",
    "                                      .otherwise(F.col('days_to_closed')))\n",
    ")  \n",
    "\n",
    "df = (\n",
    "    case.join(source, on='source_id', how='left')\n",
    "        .join(dept, on='dept_division', how='left')\n",
    "        .drop('dept_name')\n",
    "        .withColumnRenamed('standardized_dept_name', 'department')\n",
    "        .withColumn('dept_subject_to_SLA', (F.col('dept_subject_to_SLA') == 'YES'))\n",
    ")"
   ]
  },
  {
   "cell_type": "markdown",
   "id": "bf044093",
   "metadata": {},
   "source": [
    "#### 1. How many different cases are there, by department?"
   ]
  },
  {
   "cell_type": "code",
   "execution_count": 3,
   "id": "a99f6a94",
   "metadata": {},
   "outputs": [
    {
     "name": "stderr",
     "output_type": "stream",
     "text": [
      "                                                                                \r"
     ]
    },
    {
     "data": {
      "text/html": [
       "<div>\n",
       "<style scoped>\n",
       "    .dataframe tbody tr th:only-of-type {\n",
       "        vertical-align: middle;\n",
       "    }\n",
       "\n",
       "    .dataframe tbody tr th {\n",
       "        vertical-align: top;\n",
       "    }\n",
       "\n",
       "    .dataframe thead th {\n",
       "        text-align: right;\n",
       "    }\n",
       "</style>\n",
       "<table border=\"1\" class=\"dataframe\">\n",
       "  <thead>\n",
       "    <tr style=\"text-align: right;\">\n",
       "      <th></th>\n",
       "      <th>department</th>\n",
       "      <th>count</th>\n",
       "    </tr>\n",
       "  </thead>\n",
       "  <tbody>\n",
       "    <tr>\n",
       "      <th>0</th>\n",
       "      <td>Solid Waste</td>\n",
       "      <td>286287</td>\n",
       "    </tr>\n",
       "    <tr>\n",
       "      <th>1</th>\n",
       "      <td>Animal Care Services</td>\n",
       "      <td>119362</td>\n",
       "    </tr>\n",
       "    <tr>\n",
       "      <th>2</th>\n",
       "      <td>Trans &amp; Cap Improvements</td>\n",
       "      <td>97841</td>\n",
       "    </tr>\n",
       "    <tr>\n",
       "      <th>3</th>\n",
       "      <td>Parks &amp; Recreation</td>\n",
       "      <td>19964</td>\n",
       "    </tr>\n",
       "    <tr>\n",
       "      <th>4</th>\n",
       "      <td>Customer Service</td>\n",
       "      <td>2889</td>\n",
       "    </tr>\n",
       "    <tr>\n",
       "      <th>5</th>\n",
       "      <td>Metro Health</td>\n",
       "      <td>5313</td>\n",
       "    </tr>\n",
       "    <tr>\n",
       "      <th>6</th>\n",
       "      <td>City Council</td>\n",
       "      <td>34</td>\n",
       "    </tr>\n",
       "    <tr>\n",
       "      <th>7</th>\n",
       "      <td>DSD/Code Enforcement</td>\n",
       "      <td>323579</td>\n",
       "    </tr>\n",
       "  </tbody>\n",
       "</table>\n",
       "</div>"
      ],
      "text/plain": [
       "                 department   count\n",
       "0               Solid Waste  286287\n",
       "1      Animal Care Services  119362\n",
       "2  Trans & Cap Improvements   97841\n",
       "3        Parks & Recreation   19964\n",
       "4          Customer Service    2889\n",
       "5              Metro Health    5313\n",
       "6              City Council      34\n",
       "7      DSD/Code Enforcement  323579"
      ]
     },
     "execution_count": 3,
     "metadata": {},
     "output_type": "execute_result"
    }
   ],
   "source": [
    "df.groupby('department').count().toPandas()"
   ]
  },
  {
   "cell_type": "code",
   "execution_count": 4,
   "id": "cca92b49",
   "metadata": {},
   "outputs": [
    {
     "name": "stderr",
     "output_type": "stream",
     "text": [
      "                                                                                \r"
     ]
    },
    {
     "data": {
      "image/png": "[encoded data removed]",
      "text/plain": [
       "<Figure size 864x576 with 1 Axes>"
      ]
     },
     "metadata": {
      "needs_background": "light"
     },
     "output_type": "display_data"
    }
   ],
   "source": [
    "(\n",
    "    df.groupby('department')\n",
    "      .count()\n",
    "      .toPandas()\n",
    "      .set_index('department')\n",
    "      .sort_values('count')\n",
    "      .plot.barh(width=1, edgecolor='black', figsize=(12,8))\n",
    ")\n",
    "\n",
    "plt.title('Number of Cases by Department', fontsize=16)\n",
    "plt.ylabel(None)\n",
    "plt.xlabel(None)\n",
    "plt.yticks(fontsize=14)\n",
    "plt.xticks(fontsize=12)\n",
    "plt.show()"
   ]
  },
  {
   "cell_type": "markdown",
   "id": "85afc5e1",
   "metadata": {},
   "source": [
    "#### 2. Does the percentage of cases that are late vary by department?"
   ]
  },
  {
   "cell_type": "code",
   "execution_count": 5,
   "id": "a9b0c503",
   "metadata": {
    "scrolled": false
   },
   "outputs": [
    {
     "name": "stderr",
     "output_type": "stream",
     "text": [
      "                                                                                \r"
     ]
    },
    {
     "data": {
      "text/html": [
       "<div>\n",
       "<style scoped>\n",
       "    .dataframe tbody tr th:only-of-type {\n",
       "        vertical-align: middle;\n",
       "    }\n",
       "\n",
       "    .dataframe tbody tr th {\n",
       "        vertical-align: top;\n",
       "    }\n",
       "\n",
       "    .dataframe thead th {\n",
       "        text-align: right;\n",
       "    }\n",
       "</style>\n",
       "<table border=\"1\" class=\"dataframe\">\n",
       "  <thead>\n",
       "    <tr style=\"text-align: right;\">\n",
       "      <th></th>\n",
       "      <th>department</th>\n",
       "      <th>n_cases</th>\n",
       "      <th>n_cases_late</th>\n",
       "      <th>pct_late</th>\n",
       "    </tr>\n",
       "  </thead>\n",
       "  <tbody>\n",
       "    <tr>\n",
       "      <th>0</th>\n",
       "      <td>Animal Care Services</td>\n",
       "      <td>119362</td>\n",
       "      <td>23751</td>\n",
       "      <td>20.0</td>\n",
       "    </tr>\n",
       "    <tr>\n",
       "      <th>1</th>\n",
       "      <td>City Council</td>\n",
       "      <td>34</td>\n",
       "      <td>0</td>\n",
       "      <td>0.0</td>\n",
       "    </tr>\n",
       "    <tr>\n",
       "      <th>2</th>\n",
       "      <td>Customer Service</td>\n",
       "      <td>2889</td>\n",
       "      <td>2035</td>\n",
       "      <td>70.0</td>\n",
       "    </tr>\n",
       "    <tr>\n",
       "      <th>3</th>\n",
       "      <td>DSD/Code Enforcement</td>\n",
       "      <td>323579</td>\n",
       "      <td>26439</td>\n",
       "      <td>8.0</td>\n",
       "    </tr>\n",
       "    <tr>\n",
       "      <th>4</th>\n",
       "      <td>Metro Health</td>\n",
       "      <td>5313</td>\n",
       "      <td>854</td>\n",
       "      <td>16.0</td>\n",
       "    </tr>\n",
       "    <tr>\n",
       "      <th>5</th>\n",
       "      <td>Parks &amp; Recreation</td>\n",
       "      <td>19964</td>\n",
       "      <td>3810</td>\n",
       "      <td>19.0</td>\n",
       "    </tr>\n",
       "    <tr>\n",
       "      <th>6</th>\n",
       "      <td>Solid Waste</td>\n",
       "      <td>286287</td>\n",
       "      <td>33729</td>\n",
       "      <td>12.0</td>\n",
       "    </tr>\n",
       "    <tr>\n",
       "      <th>7</th>\n",
       "      <td>Trans &amp; Cap Improvements</td>\n",
       "      <td>97841</td>\n",
       "      <td>5529</td>\n",
       "      <td>6.0</td>\n",
       "    </tr>\n",
       "  </tbody>\n",
       "</table>\n",
       "</div>"
      ],
      "text/plain": [
       "                 department  n_cases  n_cases_late  pct_late\n",
       "0      Animal Care Services   119362         23751      20.0\n",
       "1              City Council       34             0       0.0\n",
       "2          Customer Service     2889          2035      70.0\n",
       "3      DSD/Code Enforcement   323579         26439       8.0\n",
       "4              Metro Health     5313           854      16.0\n",
       "5        Parks & Recreation    19964          3810      19.0\n",
       "6               Solid Waste   286287         33729      12.0\n",
       "7  Trans & Cap Improvements    97841          5529       6.0"
      ]
     },
     "execution_count": 5,
     "metadata": {},
     "output_type": "execute_result"
    }
   ],
   "source": [
    "df_2 = (\n",
    "        df.groupby('department')\n",
    "          .count()\n",
    "          .withColumnRenamed('count', 'n_cases')\n",
    "        )\n",
    "df_3 = (\n",
    "        df.filter(F.col('case_late'))\n",
    "          .groupby('department')\n",
    "          .count()\n",
    "          .withColumnRenamed('count', 'n_cases_late')\n",
    "        )\n",
    "df_4 = df_2.join(df_3, on='department', how='outer').fillna(0)\n",
    "df_4 = df_4.withColumn('pct_late', F.round((F.col('n_cases_late') / F.col('n_cases'))*100, 0)).toPandas()\n",
    "df_4"
   ]
  },
  {
   "cell_type": "code",
   "execution_count": 6,
   "id": "05380173",
   "metadata": {},
   "outputs": [
    {
     "data": {
      "image/png": "[encoded data removed]",
      "text/plain": [
       "<Figure size 864x576 with 1 Axes>"
      ]
     },
     "metadata": {
      "needs_background": "light"
     },
     "output_type": "display_data"
    }
   ],
   "source": [
    "(\n",
    "    df_4[['department', 'pct_late']]\n",
    "    .set_index('department')\n",
    "    .sort_values('pct_late')\n",
    "    .plot.barh(width=1, \n",
    "               ec='black', \n",
    "               figsize=(12,8), \n",
    "               legend=None)\n",
    ")\n",
    "plt.title('Percentage of Late Cases by Department', fontsize=16)\n",
    "plt.xlabel('% Late', fontsize=14)\n",
    "plt.xticks(fontsize=14)\n",
    "plt.ylabel(None)\n",
    "plt.yticks(fontsize=14)\n",
    "plt.show()"
   ]
  },
  {
   "cell_type": "code",
   "execution_count": 7,
   "id": "c17409a3",
   "metadata": {},
   "outputs": [
    {
     "data": {
      "text/html": [
       "<div>\n",
       "<style scoped>\n",
       "    .dataframe tbody tr th:only-of-type {\n",
       "        vertical-align: middle;\n",
       "    }\n",
       "\n",
       "    .dataframe tbody tr th {\n",
       "        vertical-align: top;\n",
       "    }\n",
       "\n",
       "    .dataframe thead th {\n",
       "        text-align: right;\n",
       "    }\n",
       "</style>\n",
       "<table border=\"1\" class=\"dataframe\">\n",
       "  <thead>\n",
       "    <tr style=\"text-align: right;\">\n",
       "      <th></th>\n",
       "      <th>dept_division</th>\n",
       "      <th>source_id</th>\n",
       "      <th>case_id</th>\n",
       "      <th>case_opened_date</th>\n",
       "      <th>case_closed_date</th>\n",
       "      <th>case_due_date</th>\n",
       "      <th>case_late</th>\n",
       "      <th>num_days_late</th>\n",
       "      <th>case_closed</th>\n",
       "      <th>service_request_type</th>\n",
       "      <th>SLA_days</th>\n",
       "      <th>case_status</th>\n",
       "      <th>request_address</th>\n",
       "      <th>council_district</th>\n",
       "      <th>case_age</th>\n",
       "      <th>days_to_closed</th>\n",
       "      <th>case_lifetime</th>\n",
       "      <th>source_username</th>\n",
       "      <th>department</th>\n",
       "      <th>dept_subject_to_SLA</th>\n",
       "    </tr>\n",
       "  </thead>\n",
       "  <tbody>\n",
       "    <tr>\n",
       "      <th>0</th>\n",
       "      <td>Field Operations</td>\n",
       "      <td>svcCRMLS</td>\n",
       "      <td>1014127332</td>\n",
       "      <td>2018-01-01 00:42:00</td>\n",
       "      <td>2018-01-01 12:29:00</td>\n",
       "      <td>2020-09-26 00:42:00</td>\n",
       "      <td>False</td>\n",
       "      <td>-998.508762</td>\n",
       "      <td>True</td>\n",
       "      <td>Stray Animal</td>\n",
       "      <td>999.000000</td>\n",
       "      <td>Closed</td>\n",
       "      <td>2315  EL PASO ST, San Antonio, 78207</td>\n",
       "      <td>5</td>\n",
       "      <td>1600</td>\n",
       "      <td>0</td>\n",
       "      <td>0</td>\n",
       "      <td>svcCRMLS</td>\n",
       "      <td>Animal Care Services</td>\n",
       "      <td>True</td>\n",
       "    </tr>\n",
       "    <tr>\n",
       "      <th>1</th>\n",
       "      <td>Storm Water</td>\n",
       "      <td>svcCRMSS</td>\n",
       "      <td>1014127333</td>\n",
       "      <td>2018-01-01 00:46:00</td>\n",
       "      <td>2018-01-03 08:11:00</td>\n",
       "      <td>2018-01-05 08:30:00</td>\n",
       "      <td>False</td>\n",
       "      <td>-2.012604</td>\n",
       "      <td>True</td>\n",
       "      <td>Removal Of Obstruction</td>\n",
       "      <td>4.322222</td>\n",
       "      <td>Closed</td>\n",
       "      <td>2215  GOLIAD RD, San Antonio, 78223</td>\n",
       "      <td>3</td>\n",
       "      <td>1600</td>\n",
       "      <td>2</td>\n",
       "      <td>2</td>\n",
       "      <td>svcCRMSS</td>\n",
       "      <td>Trans &amp; Cap Improvements</td>\n",
       "      <td>True</td>\n",
       "    </tr>\n",
       "    <tr>\n",
       "      <th>2</th>\n",
       "      <td>Storm Water</td>\n",
       "      <td>svcCRMSS</td>\n",
       "      <td>1014127334</td>\n",
       "      <td>2018-01-01 00:48:00</td>\n",
       "      <td>2018-01-02 07:57:00</td>\n",
       "      <td>2018-01-05 08:30:00</td>\n",
       "      <td>False</td>\n",
       "      <td>-3.022338</td>\n",
       "      <td>True</td>\n",
       "      <td>Removal Of Obstruction</td>\n",
       "      <td>4.320729</td>\n",
       "      <td>Closed</td>\n",
       "      <td>102  PALFREY ST W, San Antonio, 78223</td>\n",
       "      <td>3</td>\n",
       "      <td>1600</td>\n",
       "      <td>1</td>\n",
       "      <td>1</td>\n",
       "      <td>svcCRMSS</td>\n",
       "      <td>Trans &amp; Cap Improvements</td>\n",
       "      <td>True</td>\n",
       "    </tr>\n",
       "  </tbody>\n",
       "</table>\n",
       "</div>"
      ],
      "text/plain": [
       "      dept_division source_id     case_id    case_opened_date  \\\n",
       "0  Field Operations  svcCRMLS  1014127332 2018-01-01 00:42:00   \n",
       "1       Storm Water  svcCRMSS  1014127333 2018-01-01 00:46:00   \n",
       "2       Storm Water  svcCRMSS  1014127334 2018-01-01 00:48:00   \n",
       "\n",
       "     case_closed_date       case_due_date  case_late  num_days_late  \\\n",
       "0 2018-01-01 12:29:00 2020-09-26 00:42:00      False    -998.508762   \n",
       "1 2018-01-03 08:11:00 2018-01-05 08:30:00      False      -2.012604   \n",
       "2 2018-01-02 07:57:00 2018-01-05 08:30:00      False      -3.022338   \n",
       "\n",
       "   case_closed    service_request_type    SLA_days case_status  \\\n",
       "0         True            Stray Animal  999.000000      Closed   \n",
       "1         True  Removal Of Obstruction    4.322222      Closed   \n",
       "2         True  Removal Of Obstruction    4.320729      Closed   \n",
       "\n",
       "                         request_address council_district  case_age  \\\n",
       "0   2315  EL PASO ST, San Antonio, 78207                5      1600   \n",
       "1    2215  GOLIAD RD, San Antonio, 78223                3      1600   \n",
       "2  102  PALFREY ST W, San Antonio, 78223                3      1600   \n",
       "\n",
       "   days_to_closed  case_lifetime source_username                department  \\\n",
       "0               0              0        svcCRMLS      Animal Care Services   \n",
       "1               2              2        svcCRMSS  Trans & Cap Improvements   \n",
       "2               1              1        svcCRMSS  Trans & Cap Improvements   \n",
       "\n",
       "   dept_subject_to_SLA  \n",
       "0                 True  \n",
       "1                 True  \n",
       "2                 True  "
      ]
     },
     "execution_count": 7,
     "metadata": {},
     "output_type": "execute_result"
    }
   ],
   "source": [
    "display(df)"
   ]
  },
  {
   "cell_type": "markdown",
   "id": "e82aa8f4",
   "metadata": {},
   "source": [
    "#### 3. On average, how late are the late cases by department?"
   ]
  },
  {
   "cell_type": "markdown",
   "id": "a4531068",
   "metadata": {},
   "source": [
    "#### 4. What is the service type that is the most late? Just for Parks & Rec?"
   ]
  },
  {
   "cell_type": "markdown",
   "id": "228addb6",
   "metadata": {},
   "source": [
    "#### 5. For the DSD/Code Enforcement department, what are the most common service request types? Look at other departments too."
   ]
  },
  {
   "cell_type": "markdown",
   "id": "67b79481",
   "metadata": {},
   "source": [
    "#### 6. Does whether or not its a weekend matter for when a case is opened/closed?"
   ]
  },
  {
   "cell_type": "markdown",
   "id": "503b3463",
   "metadata": {},
   "source": [
    "#### 7. On average, how many cases are opened a day for the Customer Service department?"
   ]
  },
  {
   "cell_type": "markdown",
   "id": "b89fc0b9",
   "metadata": {},
   "source": [
    "#### 8. Does the number of service requests for the solid waste department vary by day of the week?"
   ]
  }
 ],
 "metadata": {
  "kernelspec": {
   "display_name": "Python 3 (ipykernel)",
   "language": "python",
   "name": "python3"
  },
  "language_info": {
   "codemirror_mode": {
    "name": "ipython",
    "version": 3
   },
   "file_extension": ".py",
   "mimetype": "text/x-python",
   "name": "python",
   "nbconvert_exporter": "python",
   "pygments_lexer": "ipython3",
   "version": "3.9.7"
  }
 },
 "nbformat": 4,
 "nbformat_minor": 5
}

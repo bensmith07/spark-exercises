{
 "cells": [
  {
   "cell_type": "code",
   "execution_count": 1,
   "id": "e712b044",
   "metadata": {},
   "outputs": [
    {
     "name": "stderr",
     "output_type": "stream",
     "text": [
      "WARNING: An illegal reflective access operation has occurred\n",
      "WARNING: Illegal reflective access by org.apache.spark.unsafe.Platform (file:/opt/homebrew/anaconda3/lib/python3.9/site-packages/pyspark/jars/spark-unsafe_2.12-3.2.1.jar) to constructor java.nio.DirectByteBuffer(long,int)\n",
      "WARNING: Please consider reporting this to the maintainers of org.apache.spark.unsafe.Platform\n",
      "WARNING: Use --illegal-access=warn to enable warnings of further illegal reflective access operations\n",
      "WARNING: All illegal access operations will be denied in a future release\n",
      "Using Spark's default log4j profile: org/apache/spark/log4j-defaults.properties\n",
      "Setting default log level to \"WARN\".\n",
      "To adjust logging level use sc.setLogLevel(newLevel). For SparkR, use setLogLevel(newLevel).\n",
      "22/05/19 15:49:34 WARN NativeCodeLoader: Unable to load native-hadoop library for your platform... using builtin-java classes where applicable\n",
      "22/05/19 15:49:35 WARN Utils: Service 'SparkUI' could not bind on port 4040. Attempting port 4041.\n"
     ]
    }
   ],
   "source": [
    "import pandas as pd\n",
    "import numpy as np\n",
    "import pyspark\n",
    "import pyspark.sql.functions as F\n",
    "spark = pyspark.sql.SparkSession.builder.getOrCreate()"
   ]
  },
  {
   "cell_type": "markdown",
   "id": "56dd249b",
   "metadata": {},
   "source": [
    "#### 1. Create a spark data frame that contains your favorite programming languages."
   ]
  },
  {
   "cell_type": "code",
   "execution_count": 2,
   "id": "dddf3095",
   "metadata": {},
   "outputs": [],
   "source": [
    "sdf = spark.createDataFrame(pd.DataFrame({'language': ['python', \n",
    "                                                       'sql', \n",
    "                                                       'javascript', \n",
    "                                                       'C++', \n",
    "                                                       'java']}))"
   ]
  },
  {
   "cell_type": "markdown",
   "id": "9a887a3a",
   "metadata": {},
   "source": [
    "#### view the schma of the dataframe"
   ]
  },
  {
   "cell_type": "code",
   "execution_count": 3,
   "id": "211c03c4",
   "metadata": {},
   "outputs": [
    {
     "data": {
      "text/plain": [
       "StructType(List(StructField(language,StringType,true)))"
      ]
     },
     "execution_count": 3,
     "metadata": {},
     "output_type": "execute_result"
    }
   ],
   "source": [
    "sdf.schema"
   ]
  },
  {
   "cell_type": "markdown",
   "id": "8b4d0335",
   "metadata": {},
   "source": [
    "#### output the shape of the dataframe"
   ]
  },
  {
   "cell_type": "code",
   "execution_count": 4,
   "id": "c990f676",
   "metadata": {},
   "outputs": [
    {
     "name": "stderr",
     "output_type": "stream",
     "text": [
      "                                                                                \r"
     ]
    },
    {
     "data": {
      "text/plain": [
       "(5, 1)"
      ]
     },
     "execution_count": 4,
     "metadata": {},
     "output_type": "execute_result"
    }
   ],
   "source": [
    "sdf.count(), len(sdf.columns)"
   ]
  },
  {
   "cell_type": "markdown",
   "id": "95e253ff",
   "metadata": {},
   "source": [
    "#### Show the first 5 records in the dataframe"
   ]
  },
  {
   "cell_type": "code",
   "execution_count": 5,
   "id": "d1aaeb6a",
   "metadata": {},
   "outputs": [
    {
     "name": "stdout",
     "output_type": "stream",
     "text": [
      "+----------+\n",
      "|  language|\n",
      "+----------+\n",
      "|    python|\n",
      "|       sql|\n",
      "|javascript|\n",
      "|       C++|\n",
      "|      java|\n",
      "+----------+\n",
      "\n"
     ]
    }
   ],
   "source": [
    "sdf.show(5)"
   ]
  },
  {
   "cell_type": "markdown",
   "id": "badab255",
   "metadata": {},
   "source": [
    "#### 2. Load the mpg dataset as a spark dataframe"
   ]
  },
  {
   "cell_type": "code",
   "execution_count": 6,
   "id": "76c4cb29",
   "metadata": {},
   "outputs": [
    {
     "name": "stdout",
     "output_type": "stream",
     "text": [
      "+------------+-----+-----+----+---+----------+---+---+---+---+-------+\n",
      "|manufacturer|model|displ|year|cyl|     trans|drv|cty|hwy| fl|  class|\n",
      "+------------+-----+-----+----+---+----------+---+---+---+---+-------+\n",
      "|        audi|   a4|  1.8|1999|  4|  auto(l5)|  f| 18| 29|  p|compact|\n",
      "|        audi|   a4|  1.8|1999|  4|manual(m5)|  f| 21| 29|  p|compact|\n",
      "|        audi|   a4|  2.0|2008|  4|manual(m6)|  f| 20| 31|  p|compact|\n",
      "+------------+-----+-----+----+---+----------+---+---+---+---+-------+\n",
      "only showing top 3 rows\n",
      "\n"
     ]
    }
   ],
   "source": [
    "from pydataset import data\n",
    "sdf = spark.createDataFrame(data('mpg'))\n",
    "sdf.show(3)"
   ]
  },
  {
   "cell_type": "markdown",
   "id": "c907d94c",
   "metadata": {},
   "source": [
    "#### 2a. Create 1 column of output that contains a message like the one below\n",
    "> The 1999 audi a4 has a 4 cylinder engine"
   ]
  },
  {
   "cell_type": "code",
   "execution_count": 7,
   "id": "0fa46b10",
   "metadata": {},
   "outputs": [
    {
     "name": "stdout",
     "output_type": "stream",
     "text": [
      "+-------------------------------------------------------------+\n",
      "|concat(The , year,  , model,  has a , cyl,  cylinder engine.)|\n",
      "+-------------------------------------------------------------+\n",
      "|The 1999 a4 has a 4 cylinder engine.                         |\n",
      "|The 1999 a4 has a 4 cylinder engine.                         |\n",
      "|The 2008 a4 has a 4 cylinder engine.                         |\n",
      "|The 2008 a4 has a 4 cylinder engine.                         |\n",
      "|The 1999 a4 has a 6 cylinder engine.                         |\n",
      "|The 1999 a4 has a 6 cylinder engine.                         |\n",
      "|The 2008 a4 has a 6 cylinder engine.                         |\n",
      "|The 1999 a4 quattro has a 4 cylinder engine.                 |\n",
      "|The 1999 a4 quattro has a 4 cylinder engine.                 |\n",
      "|The 2008 a4 quattro has a 4 cylinder engine.                 |\n",
      "+-------------------------------------------------------------+\n",
      "only showing top 10 rows\n",
      "\n"
     ]
    }
   ],
   "source": [
    "sdf.message = F.concat(F.lit('The '), \n",
    "                       sdf.year, \n",
    "                       F.lit(' '), \n",
    "                       sdf.model, \n",
    "                       F.lit(' has a '),\n",
    "                       sdf.cyl, \n",
    "                       F.lit(' cylinder engine.'))\n",
    "sdf.select(sdf.message).show(10, truncate=False)"
   ]
  },
  {
   "cell_type": "markdown",
   "id": "ffb239bf",
   "metadata": {},
   "source": [
    "#### 2b. Transform the trans column so that it only contains either manual or auto.\n"
   ]
  },
  {
   "cell_type": "code",
   "execution_count": 8,
   "id": "239a0615",
   "metadata": {
    "scrolled": false
   },
   "outputs": [
    {
     "name": "stdout",
     "output_type": "stream",
     "text": [
      "+-------------------------------+\n",
      "|regexp_extract(trans, (\\w+), 1)|\n",
      "+-------------------------------+\n",
      "|                           auto|\n",
      "|                         manual|\n",
      "|                         manual|\n",
      "|                           auto|\n",
      "|                           auto|\n",
      "|                         manual|\n",
      "|                           auto|\n",
      "|                         manual|\n",
      "|                           auto|\n",
      "|                         manual|\n",
      "|                           auto|\n",
      "|                           auto|\n",
      "|                         manual|\n",
      "|                           auto|\n",
      "|                         manual|\n",
      "|                           auto|\n",
      "|                           auto|\n",
      "|                           auto|\n",
      "|                           auto|\n",
      "|                           auto|\n",
      "+-------------------------------+\n",
      "only showing top 20 rows\n",
      "\n"
     ]
    }
   ],
   "source": [
    "sdf.select(F.regexp_extract('trans', r'(\\w+)', 1)).show()"
   ]
  },
  {
   "cell_type": "markdown",
   "id": "664cacde",
   "metadata": {},
   "source": [
    "## 3. Load the tips dataset as a spark dataframe"
   ]
  },
  {
   "cell_type": "code",
   "execution_count": 9,
   "id": "fc132748",
   "metadata": {},
   "outputs": [
    {
     "name": "stdout",
     "output_type": "stream",
     "text": [
      "+----------+----+------+------+---+------+----+\n",
      "|total_bill| tip|   sex|smoker|day|  time|size|\n",
      "+----------+----+------+------+---+------+----+\n",
      "|     16.99|1.01|Female|    No|Sun|Dinner|   2|\n",
      "|     10.34|1.66|  Male|    No|Sun|Dinner|   3|\n",
      "|     21.01| 3.5|  Male|    No|Sun|Dinner|   3|\n",
      "|     23.68|3.31|  Male|    No|Sun|Dinner|   2|\n",
      "|     24.59|3.61|Female|    No|Sun|Dinner|   4|\n",
      "+----------+----+------+------+---+------+----+\n",
      "only showing top 5 rows\n",
      "\n"
     ]
    }
   ],
   "source": [
    "sdf = spark.createDataFrame(data('tips'))\n",
    "sdf.show(5)"
   ]
  },
  {
   "cell_type": "markdown",
   "id": "cc58e4f4",
   "metadata": {},
   "source": [
    "#### 3a. What percentage of observations are smokers?"
   ]
  },
  {
   "cell_type": "code",
   "execution_count": 10,
   "id": "eddbe58a",
   "metadata": {
    "scrolled": false
   },
   "outputs": [
    {
     "name": "stdout",
     "output_type": "stream",
     "text": [
      "+-----------------------------------------------+\n",
      "|avg(CASE WHEN (smoker = Yes) THEN 1 ELSE 0 END)|\n",
      "+-----------------------------------------------+\n",
      "|                            0.38114754098360654|\n",
      "+-----------------------------------------------+\n",
      "\n"
     ]
    }
   ],
   "source": [
    "smoker_num = F.when(sdf.smoker == 'Yes', 1).otherwise(0)\n",
    "sdf.select(F.mean(smoker_num)).show()"
   ]
  },
  {
   "cell_type": "markdown",
   "id": "3a713fd8",
   "metadata": {},
   "source": [
    "#### 3b. Create a column that contains the tip percentage"
   ]
  },
  {
   "cell_type": "code",
   "execution_count": 11,
   "id": "9131b0f2",
   "metadata": {},
   "outputs": [
    {
     "name": "stdout",
     "output_type": "stream",
     "text": [
      "+-------------------+\n",
      "|            tip_pct|\n",
      "+-------------------+\n",
      "|0.05944673337257211|\n",
      "|0.16054158607350097|\n",
      "|0.16658733936220846|\n",
      "+-------------------+\n",
      "only showing top 3 rows\n",
      "\n"
     ]
    }
   ],
   "source": [
    "tip_pct = (sdf.tip / sdf.total_bill).alias('tip_pct')\n",
    "sdf.select(tip_pct).show(3)"
   ]
  },
  {
   "cell_type": "markdown",
   "id": "46932da9",
   "metadata": {},
   "source": [
    "#### 3c. Calculate the average tip percentage for each combination of sex and smoker."
   ]
  },
  {
   "cell_type": "code",
   "execution_count": 12,
   "id": "5b3cb5d9",
   "metadata": {},
   "outputs": [
    {
     "name": "stderr",
     "output_type": "stream",
     "text": [
      "\r",
      "[Stage 14:>                                                         (0 + 8) / 8]\r"
     ]
    },
    {
     "name": "stdout",
     "output_type": "stream",
     "text": [
      "+------+------+----------------------------------+\n",
      "|   sex|smoker|avg((tip / total_bill) AS tip_pct)|\n",
      "+------+------+----------------------------------+\n",
      "|  Male|    No|                0.1606687151291298|\n",
      "|Female|    No|                0.1569209707691836|\n",
      "|  Male|   Yes|               0.15277117520248512|\n",
      "|Female|   Yes|               0.18215035269941032|\n",
      "+------+------+----------------------------------+\n",
      "\n"
     ]
    },
    {
     "name": "stderr",
     "output_type": "stream",
     "text": [
      "\r",
      "                                                                                \r"
     ]
    }
   ],
   "source": [
    "sdf.groupby('sex', 'smoker').agg(F.mean(tip_pct)).show()"
   ]
  },
  {
   "cell_type": "markdown",
   "id": "adc1ed70",
   "metadata": {},
   "source": [
    "## 4. Use the seattle weather dataset referenced in the lesson to answer the questions below."
   ]
  },
  {
   "cell_type": "code",
   "execution_count": 13,
   "id": "97bfb1d6",
   "metadata": {},
   "outputs": [
    {
     "name": "stdout",
     "output_type": "stream",
     "text": [
      "+----------+-------------+--------+--------+----+-------+\n",
      "|      date|precipitation|temp_max|temp_min|wind|weather|\n",
      "+----------+-------------+--------+--------+----+-------+\n",
      "|2012-01-01|          0.0|    12.8|     5.0| 4.7|drizzle|\n",
      "|2012-01-02|         10.9|    10.6|     2.8| 4.5|   rain|\n",
      "|2012-01-03|          0.8|    11.7|     7.2| 2.3|   rain|\n",
      "|2012-01-04|         20.3|    12.2|     5.6| 4.7|   rain|\n",
      "|2012-01-05|          1.3|     8.9|     2.8| 6.1|   rain|\n",
      "+----------+-------------+--------+--------+----+-------+\n",
      "only showing top 5 rows\n",
      "\n"
     ]
    }
   ],
   "source": [
    "from vega_datasets import data\n",
    "weather = data.seattle_weather().assign(date=lambda df: df.date.astype(str))\n",
    "sdf = spark.createDataFrame(weather)\n",
    "sdf.show(5)"
   ]
  },
  {
   "cell_type": "markdown",
   "id": "ad43d563",
   "metadata": {},
   "source": [
    "#### 4a. Convert the temperatures to fahrenheit."
   ]
  },
  {
   "cell_type": "markdown",
   "id": "6f7adb9e",
   "metadata": {},
   "source": [
    "(0°C × 9/5) + 32 = 32°F"
   ]
  },
  {
   "cell_type": "code",
   "execution_count": 14,
   "id": "1fa27fb9",
   "metadata": {},
   "outputs": [
    {
     "name": "stdout",
     "output_type": "stream",
     "text": [
      "+----------+-------------+------------------+--------+----+-------+\n",
      "|      date|precipitation|          temp_max|temp_min|wind|weather|\n",
      "+----------+-------------+------------------+--------+----+-------+\n",
      "|2012-01-01|          0.0|55.040000000000006|    41.0| 4.7|drizzle|\n",
      "|2012-01-02|         10.9|             51.08|   37.04| 4.5|   rain|\n",
      "|2012-01-03|          0.8|             53.06|   44.96| 2.3|   rain|\n",
      "|2012-01-04|         20.3|             53.96|   42.08| 4.7|   rain|\n",
      "|2012-01-05|          1.3|48.019999999999996|   37.04| 6.1|   rain|\n",
      "+----------+-------------+------------------+--------+----+-------+\n",
      "only showing top 5 rows\n",
      "\n"
     ]
    }
   ],
   "source": [
    "sdf = sdf.withColumn('temp_max', sdf.temp_max * (9/5) + 32)\n",
    "sdf = sdf.withColumn('temp_min', sdf.temp_min * (9/5) + 32)\n",
    "sdf.show(5)"
   ]
  },
  {
   "cell_type": "markdown",
   "id": "d43c28a3",
   "metadata": {},
   "source": [
    "#### 4b. Which month has the most rain, on average?"
   ]
  },
  {
   "cell_type": "code",
   "execution_count": 15,
   "id": "bc2cea55",
   "metadata": {
    "scrolled": false
   },
   "outputs": [
    {
     "name": "stderr",
     "output_type": "stream",
     "text": [
      "\r",
      "[Stage 19:>                                                         (0 + 8) / 8]\r"
     ]
    },
    {
     "name": "stdout",
     "output_type": "stream",
     "text": [
      "+-----+-------------------+\n",
      "|month|           avg_rain|\n",
      "+-----+-------------------+\n",
      "|   01|  5.144444444444444|\n",
      "|   05| 3.0705882352941174|\n",
      "|   03|             4.5525|\n",
      "|   02| 2.8840909090909093|\n",
      "|   06|  3.576190476190476|\n",
      "|   04|  2.899999999999999|\n",
      "|   07| 1.1954545454545455|\n",
      "|   11|  7.517857142857143|\n",
      "|   09|0.09999999999999999|\n",
      "|   08|  2.757142857142857|\n",
      "|   10|             8.0625|\n",
      "|   12|  4.623999999999999|\n",
      "+-----+-------------------+\n",
      "\n"
     ]
    },
    {
     "name": "stderr",
     "output_type": "stream",
     "text": [
      "\r",
      "                                                                                \r"
     ]
    }
   ],
   "source": [
    "sdf = sdf.withColumn('month', sdf.date.substr(6, 2))\n",
    "rainy_days = sdf.filter((sdf.weather == 'rain') | (sdf.weather == 'drizzle'))\n",
    "rain_by_month = rainy_days.groupby('month').agg(F.mean('precipitation'))\n",
    "rain_by_month = rain_by_month.withColumnRenamed('avg(precipitation)', 'avg_rain')\n",
    "rain_by_month.show()"
   ]
  },
  {
   "cell_type": "code",
   "execution_count": 16,
   "id": "d434dee4",
   "metadata": {},
   "outputs": [
    {
     "name": "stderr",
     "output_type": "stream",
     "text": [
      "[Stage 28:>                                                         (0 + 8) / 8]\r"
     ]
    },
    {
     "name": "stdout",
     "output_type": "stream",
     "text": [
      "+-----+--------+\n",
      "|month|avg_rain|\n",
      "+-----+--------+\n",
      "|   10|  8.0625|\n",
      "+-----+--------+\n",
      "\n"
     ]
    },
    {
     "name": "stderr",
     "output_type": "stream",
     "text": [
      "\r",
      "                                                                                \r"
     ]
    }
   ],
   "source": [
    "max_rain = rain_by_month.select(F.max('avg_rain')).head()[0]\n",
    "rain_by_month.filter(rain_by_month.avg_rain == max_rain).show()"
   ]
  },
  {
   "cell_type": "code",
   "execution_count": 17,
   "id": "9b793da5",
   "metadata": {},
   "outputs": [
    {
     "data": {
      "text/plain": [
       "'10'"
      ]
     },
     "execution_count": 17,
     "metadata": {},
     "output_type": "execute_result"
    }
   ],
   "source": [
    "rain_by_month.filter(rain_by_month.avg_rain == max_rain).select('month').head()[0]"
   ]
  },
  {
   "cell_type": "code",
   "execution_count": 18,
   "id": "5e2b5bb0",
   "metadata": {},
   "outputs": [
    {
     "name": "stderr",
     "output_type": "stream",
     "text": [
      "                                                                                \r"
     ]
    },
    {
     "name": "stdout",
     "output_type": "stream",
     "text": [
      "+-----+--------+\n",
      "|month|avg_rain|\n",
      "+-----+--------+\n",
      "|   10|  8.0625|\n",
      "+-----+--------+\n",
      "\n"
     ]
    }
   ],
   "source": [
    "rain_by_month.createOrReplaceTempView('rain_by_month')\n",
    "spark.sql('''SELECT month, avg_rain\n",
    "               FROM rain_by_month\n",
    "               WHERE avg_rain = (SELECT MAX(avg_rain)\n",
    "                                   FROM rain_by_month)''').show()"
   ]
  },
  {
   "cell_type": "markdown",
   "id": "487543ed",
   "metadata": {},
   "source": [
    "#### 4c. Which year was the windiest?"
   ]
  },
  {
   "cell_type": "code",
   "execution_count": 19,
   "id": "f46ed671",
   "metadata": {},
   "outputs": [],
   "source": [
    "sdf = sdf.withColumn('year', sdf.date.substr(1, 4))"
   ]
  },
  {
   "cell_type": "code",
   "execution_count": 20,
   "id": "ba05bff4",
   "metadata": {},
   "outputs": [
    {
     "name": "stdout",
     "output_type": "stream",
     "text": [
      "+----+------------------+\n",
      "|year|          avg_wind|\n",
      "+----+------------------+\n",
      "|2012| 3.400819672131148|\n",
      "|2013|3.0158904109589058|\n",
      "|2014| 3.387671232876714|\n",
      "|2015| 3.159726027397261|\n",
      "+----+------------------+\n",
      "\n"
     ]
    }
   ],
   "source": [
    "wind_by_year = sdf.groupby('year').agg(F.mean('wind'))\n",
    "wind_by_year = wind_by_year.withColumnRenamed('avg(wind)', 'avg_wind')\n",
    "wind_by_year.show()"
   ]
  },
  {
   "cell_type": "code",
   "execution_count": 21,
   "id": "dfadada9",
   "metadata": {},
   "outputs": [
    {
     "name": "stdout",
     "output_type": "stream",
     "text": [
      "+----+-----------------+\n",
      "|year|         avg_wind|\n",
      "+----+-----------------+\n",
      "|2012|3.400819672131148|\n",
      "+----+-----------------+\n",
      "\n"
     ]
    }
   ],
   "source": [
    "max_wind = wind_by_year.select(F.max('avg_wind')).head()[0]\n",
    "wind_by_year.filter(wind_by_year.avg_wind == max_wind).show()"
   ]
  },
  {
   "cell_type": "code",
   "execution_count": 22,
   "id": "1004de5e",
   "metadata": {},
   "outputs": [
    {
     "data": {
      "text/plain": [
       "'2012'"
      ]
     },
     "execution_count": 22,
     "metadata": {},
     "output_type": "execute_result"
    }
   ],
   "source": [
    "wind_by_year.filter(wind_by_year.avg_wind == max_wind).select('year').head()[0]"
   ]
  },
  {
   "cell_type": "markdown",
   "id": "01a53056",
   "metadata": {},
   "source": [
    "#### 4d. What is the most frequent type of weather in January?"
   ]
  },
  {
   "cell_type": "code",
   "execution_count": 23,
   "id": "b98aa8e0",
   "metadata": {},
   "outputs": [
    {
     "name": "stdout",
     "output_type": "stream",
     "text": [
      "+-------+------+\n",
      "|weather|n_days|\n",
      "+-------+------+\n",
      "|drizzle|    10|\n",
      "|   rain|    35|\n",
      "|    sun|    33|\n",
      "|   snow|     8|\n",
      "|    fog|    38|\n",
      "+-------+------+\n",
      "\n"
     ]
    }
   ],
   "source": [
    "jan = sdf.filter(sdf.month == '01').groupby('weather').count()\n",
    "jan = jan.withColumnRenamed('count', 'n_days')\n",
    "jan.show()"
   ]
  },
  {
   "cell_type": "code",
   "execution_count": 24,
   "id": "21cac29f",
   "metadata": {},
   "outputs": [
    {
     "name": "stdout",
     "output_type": "stream",
     "text": [
      "+-------+------+\n",
      "|weather|n_days|\n",
      "+-------+------+\n",
      "|    fog|    38|\n",
      "+-------+------+\n",
      "\n"
     ]
    }
   ],
   "source": [
    "max_days = jan.select(F.max('n_days')).head()[0]\n",
    "jan.filter(jan.n_days == max_days).show()"
   ]
  },
  {
   "cell_type": "code",
   "execution_count": 25,
   "id": "d50f9f7c",
   "metadata": {},
   "outputs": [
    {
     "data": {
      "text/plain": [
       "'fog'"
      ]
     },
     "execution_count": 25,
     "metadata": {},
     "output_type": "execute_result"
    }
   ],
   "source": [
    "jan.filter(jan.n_days == max_days).select('weather').head()[0]"
   ]
  },
  {
   "cell_type": "markdown",
   "id": "c9abaa72",
   "metadata": {},
   "source": [
    "#### 4e. What is the average high and low temperature on sunny days in July in 2013 and 2014?"
   ]
  },
  {
   "cell_type": "code",
   "execution_count": 34,
   "id": "40ead101",
   "metadata": {},
   "outputs": [
    {
     "name": "stdout",
     "output_type": "stream",
     "text": [
      "+-----------------+\n",
      "|    avg(temp_max)|\n",
      "+-----------------+\n",
      "|65.37874999999998|\n",
      "+-----------------+\n",
      "\n"
     ]
    }
   ],
   "source": [
    "sun_13_14 = sdf.filter(((sdf.year == 2013) | (sdf.year == 2014)) & (sdf.weather == 'sun'))\n",
    "sun_13_14.select(F.mean('temp_max')).show()"
   ]
  },
  {
   "cell_type": "code",
   "execution_count": 35,
   "id": "814d8c87",
   "metadata": {},
   "outputs": [
    {
     "name": "stdout",
     "output_type": "stream",
     "text": [
      "+-----------------+\n",
      "|    avg(temp_min)|\n",
      "+-----------------+\n",
      "|48.28913461538461|\n",
      "+-----------------+\n",
      "\n"
     ]
    }
   ],
   "source": [
    "sun_13_14.select(F.mean('temp_min')).show()"
   ]
  },
  {
   "cell_type": "markdown",
   "id": "66436f7a",
   "metadata": {},
   "source": [
    "#### 4f. What percentage of days were rainy in q3 of 2015?"
   ]
  },
  {
   "cell_type": "code",
   "execution_count": 28,
   "id": "03114e01",
   "metadata": {
    "scrolled": true
   },
   "outputs": [],
   "source": [
    "sdf = sdf.withColumn('quarter', F.when(sdf.month.isin(['01', '02', '03']), 1)\n",
    "                                 .when(sdf.month.isin(['04', '05', '06']), 2)\n",
    "                                 .when(sdf.month.isin(['07', '08', '09']), 3)\n",
    "                                 .otherwise(4))"
   ]
  },
  {
   "cell_type": "code",
   "execution_count": 29,
   "id": "1780c759",
   "metadata": {},
   "outputs": [
    {
     "name": "stdout",
     "output_type": "stream",
     "text": [
      "+--------------------+\n",
      "|          avg(rainy)|\n",
      "+--------------------+\n",
      "|0.021739130434782608|\n",
      "+--------------------+\n",
      "\n"
     ]
    }
   ],
   "source": [
    "q3_15 = sdf.filter((sdf.quarter == 3) & (sdf.year == '2015'))\n",
    "q3_15 = q3_15.withColumn('rainy', F.when(q3_15.weather == 'rain', 1)\n",
    "                                   .otherwise(0))\n",
    "q3_15.select(F.mean(q3_15.rainy)).show()"
   ]
  },
  {
   "cell_type": "markdown",
   "id": "eba75381",
   "metadata": {},
   "source": [
    "#### 4g. For each year, find what percentage of days it rained (had non-zero precipitation)."
   ]
  },
  {
   "cell_type": "code",
   "execution_count": 30,
   "id": "28178f3f",
   "metadata": {},
   "outputs": [],
   "source": [
    "sdf = sdf.withColumn('had_precip', F.when((sdf.precipitation > 0), 1)\n",
    "                                    .otherwise(0))"
   ]
  },
  {
   "cell_type": "code",
   "execution_count": 31,
   "id": "2444f19c",
   "metadata": {},
   "outputs": [
    {
     "name": "stdout",
     "output_type": "stream",
     "text": [
      "+----+-------------------+\n",
      "|year|    avg(had_precip)|\n",
      "+----+-------------------+\n",
      "|2012|0.48360655737704916|\n",
      "|2013|0.41643835616438357|\n",
      "|2014|  0.410958904109589|\n",
      "|2015|0.39452054794520547|\n",
      "+----+-------------------+\n",
      "\n"
     ]
    }
   ],
   "source": [
    "sdf.groupby('year').agg(F.mean('had_precip')).show()"
   ]
  },
  {
   "cell_type": "code",
   "execution_count": null,
   "id": "700fe5c5",
   "metadata": {},
   "outputs": [],
   "source": []
  }
 ],
 "metadata": {
  "kernelspec": {
   "display_name": "Python 3 (ipykernel)",
   "language": "python",
   "name": "python3"
  },
  "language_info": {
   "codemirror_mode": {
    "name": "ipython",
    "version": 3
   },
   "file_extension": ".py",
   "mimetype": "text/x-python",
   "name": "python",
   "nbconvert_exporter": "python",
   "pygments_lexer": "ipython3",
   "version": "3.9.7"
  }
 },
 "nbformat": 4,
 "nbformat_minor": 5
}

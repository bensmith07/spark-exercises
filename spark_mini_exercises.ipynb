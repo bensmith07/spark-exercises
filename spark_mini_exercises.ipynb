{
 "cells": [
  {
   "cell_type": "code",
   "execution_count": 76,
   "id": "77ea7676",
   "metadata": {},
   "outputs": [],
   "source": [
    "import pandas as pd\n",
    "import numpy as np\n",
    "\n",
    "np.random.seed(13)\n",
    "\n",
    "pandas_dataframe = pd.DataFrame(\n",
    "    {\n",
    "        \"n\": np.random.randn(20),\n",
    "        \"group\": np.random.choice(list(\"xyz\"), 20),\n",
    "        \"abool\": np.random.choice([True, False], 20),\n",
    "    }\n",
    ")"
   ]
  },
  {
   "cell_type": "code",
   "execution_count": 77,
   "id": "ba9756e5",
   "metadata": {},
   "outputs": [],
   "source": [
    "import pyspark\n",
    "spark = pyspark.sql.SparkSession.builder.getOrCreate()"
   ]
  },
  {
   "cell_type": "code",
   "execution_count": 78,
   "id": "c5d275ae",
   "metadata": {},
   "outputs": [
    {
     "data": {
      "text/plain": [
       "DataFrame[n: double, group: string, abool: boolean]"
      ]
     },
     "execution_count": 78,
     "metadata": {},
     "output_type": "execute_result"
    }
   ],
   "source": [
    "sdf = spark.createDataFrame(pandas_dataframe)\n",
    "sdf"
   ]
  },
  {
   "cell_type": "markdown",
   "id": "c96051c4",
   "metadata": {},
   "source": [
    "### 1. Spark DataFrame Basics"
   ]
  },
  {
   "cell_type": "markdown",
   "id": "eebc0a94",
   "metadata": {},
   "source": [
    "#### Show the first 3 rows of the dataframe."
   ]
  },
  {
   "cell_type": "code",
   "execution_count": 79,
   "id": "c23c367e",
   "metadata": {},
   "outputs": [
    {
     "name": "stdout",
     "output_type": "stream",
     "text": [
      "+--------------------+-----+-----+\n",
      "|                   n|group|abool|\n",
      "+--------------------+-----+-----+\n",
      "|  -0.712390662050588|    z|false|\n",
      "|   0.753766378659703|    x|false|\n",
      "|-0.04450307833805...|    z|false|\n",
      "+--------------------+-----+-----+\n",
      "only showing top 3 rows\n",
      "\n"
     ]
    }
   ],
   "source": [
    "sdf.show(3)"
   ]
  },
  {
   "cell_type": "markdown",
   "id": "e0497191",
   "metadata": {},
   "source": [
    "#### Show the first 7 rows of the dataframe.\n"
   ]
  },
  {
   "cell_type": "code",
   "execution_count": 80,
   "id": "03cfe8d7",
   "metadata": {},
   "outputs": [
    {
     "name": "stdout",
     "output_type": "stream",
     "text": [
      "+--------------------+-----+-----+\n",
      "|                   n|group|abool|\n",
      "+--------------------+-----+-----+\n",
      "|  -0.712390662050588|    z|false|\n",
      "|   0.753766378659703|    x|false|\n",
      "|-0.04450307833805...|    z|false|\n",
      "| 0.45181233874578974|    y|false|\n",
      "|  1.3451017084510097|    z|false|\n",
      "|  0.5323378882945463|    y|false|\n",
      "|  1.3501878997225267|    z|false|\n",
      "+--------------------+-----+-----+\n",
      "only showing top 7 rows\n",
      "\n"
     ]
    }
   ],
   "source": [
    "sdf.show(7)"
   ]
  },
  {
   "cell_type": "markdown",
   "id": "51cbf270",
   "metadata": {},
   "source": [
    "#### What is the difference between .show and .head?"
   ]
  },
  {
   "cell_type": "code",
   "execution_count": 81,
   "id": "c4c43d79",
   "metadata": {},
   "outputs": [
    {
     "data": {
      "text/plain": [
       "[Row(n=-0.712390662050588, group='z', abool=False),\n",
       " Row(n=0.753766378659703, group='x', abool=False),\n",
       " Row(n=-0.044503078338053455, group='z', abool=False)]"
      ]
     },
     "execution_count": 81,
     "metadata": {},
     "output_type": "execute_result"
    }
   ],
   "source": [
    "sdf.head(3)"
   ]
  },
  {
   "cell_type": "code",
   "execution_count": 82,
   "id": "b82baa01",
   "metadata": {},
   "outputs": [
    {
     "data": {
      "text/plain": [
       "[Row(n=-0.712390662050588, group='z', abool=False),\n",
       " Row(n=0.753766378659703, group='x', abool=False),\n",
       " Row(n=-0.044503078338053455, group='z', abool=False),\n",
       " Row(n=0.45181233874578974, group='y', abool=False),\n",
       " Row(n=1.3451017084510097, group='z', abool=False),\n",
       " Row(n=0.5323378882945463, group='y', abool=False),\n",
       " Row(n=1.3501878997225267, group='z', abool=False)]"
      ]
     },
     "execution_count": 82,
     "metadata": {},
     "output_type": "execute_result"
    }
   ],
   "source": [
    "sdf.head(7)"
   ]
  },
  {
   "cell_type": "markdown",
   "id": "033a461d",
   "metadata": {},
   "source": [
    "#### View a summary of the data using .describe.\n"
   ]
  },
  {
   "cell_type": "code",
   "execution_count": 83,
   "id": "f7bb81ab",
   "metadata": {},
   "outputs": [
    {
     "name": "stdout",
     "output_type": "stream",
     "text": [
      "+-------+------------------+-----+\n",
      "|summary|                 n|group|\n",
      "+-------+------------------+-----+\n",
      "|  count|                20|   20|\n",
      "|   mean|0.3664026449885217| null|\n",
      "| stddev|0.8905322898155363| null|\n",
      "|    min|-1.261605945319069|    x|\n",
      "|    max|2.1503829673811126|    z|\n",
      "+-------+------------------+-----+\n",
      "\n"
     ]
    }
   ],
   "source": [
    "sdf.describe().show()"
   ]
  },
  {
   "cell_type": "markdown",
   "id": "21a0aa75",
   "metadata": {},
   "source": [
    "#### Use .select to create a new dataframe with just the n and abool columns. View the first 5 rows of this dataframe."
   ]
  },
  {
   "cell_type": "code",
   "execution_count": 84,
   "id": "49ad1d03",
   "metadata": {},
   "outputs": [
    {
     "name": "stdout",
     "output_type": "stream",
     "text": [
      "+--------------------+-----+\n",
      "|                   n|abool|\n",
      "+--------------------+-----+\n",
      "|  -0.712390662050588|false|\n",
      "|   0.753766378659703|false|\n",
      "|-0.04450307833805...|false|\n",
      "| 0.45181233874578974|false|\n",
      "|  1.3451017084510097|false|\n",
      "+--------------------+-----+\n",
      "only showing top 5 rows\n",
      "\n"
     ]
    }
   ],
   "source": [
    "sdf.select('n', 'abool').show(5)"
   ]
  },
  {
   "cell_type": "markdown",
   "id": "9c51f3a7",
   "metadata": {},
   "source": [
    "#### Use .select to create a new dataframe with just the group and abool columns. View the first 5 rows of this dataframe."
   ]
  },
  {
   "cell_type": "code",
   "execution_count": 85,
   "id": "352e2272",
   "metadata": {},
   "outputs": [
    {
     "name": "stdout",
     "output_type": "stream",
     "text": [
      "+-----+-----+\n",
      "|group|abool|\n",
      "+-----+-----+\n",
      "|    z|false|\n",
      "|    x|false|\n",
      "|    z|false|\n",
      "|    y|false|\n",
      "|    z|false|\n",
      "+-----+-----+\n",
      "only showing top 5 rows\n",
      "\n"
     ]
    }
   ],
   "source": [
    "sdf.select('group', 'abool').show(5)"
   ]
  },
  {
   "cell_type": "markdown",
   "id": "19ab9efa",
   "metadata": {},
   "source": [
    "#### Use .select to create a new dataframe with the group column and the abool column renamed to a_boolean_value. Show the first 3 rows of this dataframe."
   ]
  },
  {
   "cell_type": "code",
   "execution_count": 86,
   "id": "5cd6b10a",
   "metadata": {},
   "outputs": [
    {
     "name": "stdout",
     "output_type": "stream",
     "text": [
      "+-----+---------------+\n",
      "|group|a_boolean_value|\n",
      "+-----+---------------+\n",
      "|    z|          false|\n",
      "|    x|          false|\n",
      "|    z|          false|\n",
      "+-----+---------------+\n",
      "only showing top 3 rows\n",
      "\n"
     ]
    }
   ],
   "source": [
    "sdf.select('group', sdf.abool.alias('a_boolean_value')).show(3)"
   ]
  },
  {
   "cell_type": "markdown",
   "id": "6133197a",
   "metadata": {},
   "source": [
    "#### Use .select to create a new dataframe with the group column and the n column renamed to a_numeric_value. Show the first 6 rows of this dataframe."
   ]
  },
  {
   "cell_type": "code",
   "execution_count": 87,
   "id": "e204b976",
   "metadata": {},
   "outputs": [
    {
     "name": "stdout",
     "output_type": "stream",
     "text": [
      "+-----+--------------------+\n",
      "|group|     a_numeric_value|\n",
      "+-----+--------------------+\n",
      "|    z|  -0.712390662050588|\n",
      "|    x|   0.753766378659703|\n",
      "|    z|-0.04450307833805...|\n",
      "|    y| 0.45181233874578974|\n",
      "|    z|  1.3451017084510097|\n",
      "|    y|  0.5323378882945463|\n",
      "+-----+--------------------+\n",
      "only showing top 6 rows\n",
      "\n"
     ]
    }
   ],
   "source": [
    "sdf.select('group', sdf.n.alias('a_numeric_value')).show(6)"
   ]
  },
  {
   "cell_type": "markdown",
   "id": "530b58ee",
   "metadata": {},
   "source": [
    "### 2. Column Manipulation"
   ]
  },
  {
   "cell_type": "markdown",
   "id": "d616b8ba",
   "metadata": {},
   "source": [
    "#### ii. Use .select to add 4 to the n column. Show the results."
   ]
  },
  {
   "cell_type": "code",
   "execution_count": 88,
   "id": "ea5e0738",
   "metadata": {},
   "outputs": [
    {
     "name": "stdout",
     "output_type": "stream",
     "text": [
      "+------------------+\n",
      "|           (n + 4)|\n",
      "+------------------+\n",
      "|3.2876093379494122|\n",
      "| 4.753766378659703|\n",
      "|3.9554969216619464|\n",
      "+------------------+\n",
      "only showing top 3 rows\n",
      "\n"
     ]
    }
   ],
   "source": [
    "sdf.select(sdf.n + 4).show(3)"
   ]
  },
  {
   "cell_type": "markdown",
   "id": "8f2f1859",
   "metadata": {},
   "source": [
    "#### iii. Subtract 5 from the n column and view the results.\n"
   ]
  },
  {
   "cell_type": "code",
   "execution_count": 89,
   "id": "53e155b0",
   "metadata": {},
   "outputs": [
    {
     "name": "stdout",
     "output_type": "stream",
     "text": [
      "+------------------+\n",
      "|           (n - 5)|\n",
      "+------------------+\n",
      "|-5.712390662050588|\n",
      "|-4.246233621340297|\n",
      "|-5.044503078338053|\n",
      "+------------------+\n",
      "only showing top 3 rows\n",
      "\n"
     ]
    }
   ],
   "source": [
    "sdf.select(sdf.n - 5).show(3)"
   ]
  },
  {
   "cell_type": "markdown",
   "id": "c3365b63",
   "metadata": {},
   "source": [
    "#### iv. Multiply the n column by 2. View the results along with the original numbers.\n"
   ]
  },
  {
   "cell_type": "code",
   "execution_count": 90,
   "id": "42af3749",
   "metadata": {},
   "outputs": [
    {
     "name": "stdout",
     "output_type": "stream",
     "text": [
      "+--------------------+--------------------+\n",
      "|                   n|             (n * 2)|\n",
      "+--------------------+--------------------+\n",
      "|  -0.712390662050588|  -1.424781324101176|\n",
      "|   0.753766378659703|   1.507532757319406|\n",
      "|-0.04450307833805...|-0.08900615667610691|\n",
      "+--------------------+--------------------+\n",
      "only showing top 3 rows\n",
      "\n"
     ]
    }
   ],
   "source": [
    "sdf.select(sdf.n, sdf.n * 2).show(3)"
   ]
  },
  {
   "cell_type": "markdown",
   "id": "87309ae0",
   "metadata": {},
   "source": [
    "#### v. Add a new column named n2 that is the n value multiplied by -1. Show the first 4 rows of your dataframe. You should see the original n value as well as n2.\n"
   ]
  },
  {
   "cell_type": "code",
   "execution_count": 91,
   "id": "10a1950e",
   "metadata": {},
   "outputs": [
    {
     "name": "stdout",
     "output_type": "stream",
     "text": [
      "+-----+-----+--------------------+--------------------+\n",
      "|group|abool|                   n|                  n2|\n",
      "+-----+-----+--------------------+--------------------+\n",
      "|    z|false|  -0.712390662050588|   0.712390662050588|\n",
      "|    x|false|   0.753766378659703|  -0.753766378659703|\n",
      "|    z|false|-0.04450307833805...|0.044503078338053455|\n",
      "|    y|false| 0.45181233874578974|-0.45181233874578974|\n",
      "+-----+-----+--------------------+--------------------+\n",
      "only showing top 4 rows\n",
      "\n"
     ]
    }
   ],
   "source": [
    "sdf = sdf.select('group', 'abool', 'n', (sdf.n * -1).alias('n2'))\n",
    "sdf.show(4)"
   ]
  },
  {
   "cell_type": "markdown",
   "id": "b675c2f5",
   "metadata": {},
   "source": [
    "#### vi. Add a new column named n3 that is the n value squared. Show the first 5 rows of your dataframe. You should see both n, n2, and n3.\n"
   ]
  },
  {
   "cell_type": "code",
   "execution_count": 92,
   "id": "b28c4743",
   "metadata": {},
   "outputs": [
    {
     "name": "stdout",
     "output_type": "stream",
     "text": [
      "+-----+-----+--------------------+--------------------+--------------------+\n",
      "|group|abool|                   n|                  n2|                  n3|\n",
      "+-----+-----+--------------------+--------------------+--------------------+\n",
      "|    z|false|  -0.712390662050588|   0.712390662050588|   0.507500455376875|\n",
      "|    x|false|   0.753766378659703|  -0.753766378659703|  0.5681637535977627|\n",
      "|    z|false|-0.04450307833805...|0.044503078338053455|0.001980523981562...|\n",
      "|    y|false| 0.45181233874578974|-0.45181233874578974| 0.20413438944294027|\n",
      "|    z|false|  1.3451017084510097| -1.3451017084510097|  1.8092986060778251|\n",
      "+-----+-----+--------------------+--------------------+--------------------+\n",
      "only showing top 5 rows\n",
      "\n"
     ]
    }
   ],
   "source": [
    "sdf = sdf.select('*', (sdf.n ** 2).alias('n3'))\n",
    "sdf.show(5)"
   ]
  },
  {
   "cell_type": "markdown",
   "id": "e0edeacb",
   "metadata": {},
   "source": [
    "#### vii. What happens when you run the code below?\n",
    "\n",
    "`df.group + df.abool`"
   ]
  },
  {
   "cell_type": "code",
   "execution_count": 93,
   "id": "b166d373",
   "metadata": {},
   "outputs": [
    {
     "data": {
      "text/plain": [
       "Column<'(group + abool)'>"
      ]
     },
     "execution_count": 93,
     "metadata": {},
     "output_type": "execute_result"
    }
   ],
   "source": [
    "sdf.group + sdf.abool"
   ]
  },
  {
   "cell_type": "markdown",
   "id": "a52a6579",
   "metadata": {},
   "source": [
    "#### viii. What happens when you run the code below? What is the difference between this and the previous code sample?\n",
    "\n",
    "`df.select(df.group + df.abool)`"
   ]
  },
  {
   "cell_type": "code",
   "execution_count": 94,
   "id": "2c062d2f",
   "metadata": {},
   "outputs": [
    {
     "ename": "AnalysisException",
     "evalue": "cannot resolve '(CAST(group AS DOUBLE) + abool)' due to data type mismatch: differing types in '(CAST(group AS DOUBLE) + abool)' (double and boolean).;\n'Project [unresolvedalias((cast(group#1085 as double) + abool#1086), Some(org.apache.spark.sql.Column$$Lambda$3270/0x0000000801279840@4e01bedb))]\n+- Project [group#1085, abool#1086, n#1084, n2#1389, POWER(n#1084, cast(2 as double)) AS n3#1411]\n   +- Project [group#1085, abool#1086, n#1084, (n#1084 * cast(-1 as double)) AS n2#1389]\n      +- LogicalRDD [n#1084, group#1085, abool#1086], false\n",
     "output_type": "error",
     "traceback": [
      "\u001b[0;31m---------------------------------------------------------------------------\u001b[0m",
      "\u001b[0;31mAnalysisException\u001b[0m                         Traceback (most recent call last)",
      "\u001b[0;32m/var/folders/zb/3lg9b5xn3831bhkh23bd5bs00000gn/T/ipykernel_62134/617889102.py\u001b[0m in \u001b[0;36m<module>\u001b[0;34m\u001b[0m\n\u001b[0;32m----> 1\u001b[0;31m \u001b[0msdf\u001b[0m\u001b[0;34m.\u001b[0m\u001b[0mselect\u001b[0m\u001b[0;34m(\u001b[0m\u001b[0msdf\u001b[0m\u001b[0;34m.\u001b[0m\u001b[0mgroup\u001b[0m \u001b[0;34m+\u001b[0m \u001b[0msdf\u001b[0m\u001b[0;34m.\u001b[0m\u001b[0mabool\u001b[0m\u001b[0;34m)\u001b[0m\u001b[0;34m\u001b[0m\u001b[0;34m\u001b[0m\u001b[0m\n\u001b[0m",
      "\u001b[0;32m/opt/homebrew/anaconda3/lib/python3.9/site-packages/pyspark/sql/dataframe.py\u001b[0m in \u001b[0;36mselect\u001b[0;34m(self, *cols)\u001b[0m\n\u001b[1;32m   1683\u001b[0m         \u001b[0;34m[\u001b[0m\u001b[0mRow\u001b[0m\u001b[0;34m(\u001b[0m\u001b[0mname\u001b[0m\u001b[0;34m=\u001b[0m\u001b[0;34m'Alice'\u001b[0m\u001b[0;34m,\u001b[0m \u001b[0mage\u001b[0m\u001b[0;34m=\u001b[0m\u001b[0;36m12\u001b[0m\u001b[0;34m)\u001b[0m\u001b[0;34m,\u001b[0m \u001b[0mRow\u001b[0m\u001b[0;34m(\u001b[0m\u001b[0mname\u001b[0m\u001b[0;34m=\u001b[0m\u001b[0;34m'Bob'\u001b[0m\u001b[0;34m,\u001b[0m \u001b[0mage\u001b[0m\u001b[0;34m=\u001b[0m\u001b[0;36m15\u001b[0m\u001b[0;34m)\u001b[0m\u001b[0;34m]\u001b[0m\u001b[0;34m\u001b[0m\u001b[0;34m\u001b[0m\u001b[0m\n\u001b[1;32m   1684\u001b[0m         \"\"\"\n\u001b[0;32m-> 1685\u001b[0;31m         \u001b[0mjdf\u001b[0m \u001b[0;34m=\u001b[0m \u001b[0mself\u001b[0m\u001b[0;34m.\u001b[0m\u001b[0m_jdf\u001b[0m\u001b[0;34m.\u001b[0m\u001b[0mselect\u001b[0m\u001b[0;34m(\u001b[0m\u001b[0mself\u001b[0m\u001b[0;34m.\u001b[0m\u001b[0m_jcols\u001b[0m\u001b[0;34m(\u001b[0m\u001b[0;34m*\u001b[0m\u001b[0mcols\u001b[0m\u001b[0;34m)\u001b[0m\u001b[0;34m)\u001b[0m\u001b[0;34m\u001b[0m\u001b[0;34m\u001b[0m\u001b[0m\n\u001b[0m\u001b[1;32m   1686\u001b[0m         \u001b[0;32mreturn\u001b[0m \u001b[0mDataFrame\u001b[0m\u001b[0;34m(\u001b[0m\u001b[0mjdf\u001b[0m\u001b[0;34m,\u001b[0m \u001b[0mself\u001b[0m\u001b[0;34m.\u001b[0m\u001b[0msql_ctx\u001b[0m\u001b[0;34m)\u001b[0m\u001b[0;34m\u001b[0m\u001b[0;34m\u001b[0m\u001b[0m\n\u001b[1;32m   1687\u001b[0m \u001b[0;34m\u001b[0m\u001b[0m\n",
      "\u001b[0;32m/opt/homebrew/anaconda3/lib/python3.9/site-packages/py4j/java_gateway.py\u001b[0m in \u001b[0;36m__call__\u001b[0;34m(self, *args)\u001b[0m\n\u001b[1;32m   1319\u001b[0m \u001b[0;34m\u001b[0m\u001b[0m\n\u001b[1;32m   1320\u001b[0m         \u001b[0manswer\u001b[0m \u001b[0;34m=\u001b[0m \u001b[0mself\u001b[0m\u001b[0;34m.\u001b[0m\u001b[0mgateway_client\u001b[0m\u001b[0;34m.\u001b[0m\u001b[0msend_command\u001b[0m\u001b[0;34m(\u001b[0m\u001b[0mcommand\u001b[0m\u001b[0;34m)\u001b[0m\u001b[0;34m\u001b[0m\u001b[0;34m\u001b[0m\u001b[0m\n\u001b[0;32m-> 1321\u001b[0;31m         return_value = get_return_value(\n\u001b[0m\u001b[1;32m   1322\u001b[0m             answer, self.gateway_client, self.target_id, self.name)\n\u001b[1;32m   1323\u001b[0m \u001b[0;34m\u001b[0m\u001b[0m\n",
      "\u001b[0;32m/opt/homebrew/anaconda3/lib/python3.9/site-packages/pyspark/sql/utils.py\u001b[0m in \u001b[0;36mdeco\u001b[0;34m(*a, **kw)\u001b[0m\n\u001b[1;32m    115\u001b[0m                 \u001b[0;31m# Hide where the exception came from that shows a non-Pythonic\u001b[0m\u001b[0;34m\u001b[0m\u001b[0;34m\u001b[0m\u001b[0m\n\u001b[1;32m    116\u001b[0m                 \u001b[0;31m# JVM exception message.\u001b[0m\u001b[0;34m\u001b[0m\u001b[0;34m\u001b[0m\u001b[0m\n\u001b[0;32m--> 117\u001b[0;31m                 \u001b[0;32mraise\u001b[0m \u001b[0mconverted\u001b[0m \u001b[0;32mfrom\u001b[0m \u001b[0;32mNone\u001b[0m\u001b[0;34m\u001b[0m\u001b[0;34m\u001b[0m\u001b[0m\n\u001b[0m\u001b[1;32m    118\u001b[0m             \u001b[0;32melse\u001b[0m\u001b[0;34m:\u001b[0m\u001b[0;34m\u001b[0m\u001b[0;34m\u001b[0m\u001b[0m\n\u001b[1;32m    119\u001b[0m                 \u001b[0;32mraise\u001b[0m\u001b[0;34m\u001b[0m\u001b[0;34m\u001b[0m\u001b[0m\n",
      "\u001b[0;31mAnalysisException\u001b[0m: cannot resolve '(CAST(group AS DOUBLE) + abool)' due to data type mismatch: differing types in '(CAST(group AS DOUBLE) + abool)' (double and boolean).;\n'Project [unresolvedalias((cast(group#1085 as double) + abool#1086), Some(org.apache.spark.sql.Column$$Lambda$3270/0x0000000801279840@4e01bedb))]\n+- Project [group#1085, abool#1086, n#1084, n2#1389, POWER(n#1084, cast(2 as double)) AS n3#1411]\n   +- Project [group#1085, abool#1086, n#1084, (n#1084 * cast(-1 as double)) AS n2#1389]\n      +- LogicalRDD [n#1084, group#1085, abool#1086], false\n"
     ]
    }
   ],
   "source": [
    "sdf.select(sdf.group + sdf.abool)"
   ]
  },
  {
   "cell_type": "markdown",
   "id": "61e35d2f",
   "metadata": {},
   "source": [
    "#### ix. Try adding various other columns together. What are the results of combining the different data types?"
   ]
  },
  {
   "cell_type": "code",
   "execution_count": 95,
   "id": "a237c5e3",
   "metadata": {},
   "outputs": [
    {
     "name": "stdout",
     "output_type": "stream",
     "text": [
      "+-----------+\n",
      "|(group + n)|\n",
      "+-----------+\n",
      "|       null|\n",
      "|       null|\n",
      "|       null|\n",
      "+-----------+\n",
      "only showing top 3 rows\n",
      "\n"
     ]
    }
   ],
   "source": [
    "sdf.select(sdf.group + sdf.n).show(3)"
   ]
  },
  {
   "cell_type": "code",
   "execution_count": 97,
   "id": "e37eef5f",
   "metadata": {},
   "outputs": [
    {
     "ename": "AnalysisException",
     "evalue": "cannot resolve '(abool + n)' due to data type mismatch: differing types in '(abool + n)' (boolean and double).;\n'Project [unresolvedalias((abool#1086 + n#1084), Some(org.apache.spark.sql.Column$$Lambda$3270/0x0000000801279840@4e01bedb))]\n+- Project [group#1085, abool#1086, n#1084, n2#1389, POWER(n#1084, cast(2 as double)) AS n3#1411]\n   +- Project [group#1085, abool#1086, n#1084, (n#1084 * cast(-1 as double)) AS n2#1389]\n      +- LogicalRDD [n#1084, group#1085, abool#1086], false\n",
     "output_type": "error",
     "traceback": [
      "\u001b[0;31m---------------------------------------------------------------------------\u001b[0m",
      "\u001b[0;31mAnalysisException\u001b[0m                         Traceback (most recent call last)",
      "\u001b[0;32m/var/folders/zb/3lg9b5xn3831bhkh23bd5bs00000gn/T/ipykernel_62134/4223979738.py\u001b[0m in \u001b[0;36m<module>\u001b[0;34m\u001b[0m\n\u001b[0;32m----> 1\u001b[0;31m \u001b[0msdf\u001b[0m\u001b[0;34m.\u001b[0m\u001b[0mselect\u001b[0m\u001b[0;34m(\u001b[0m\u001b[0msdf\u001b[0m\u001b[0;34m.\u001b[0m\u001b[0mabool\u001b[0m \u001b[0;34m+\u001b[0m \u001b[0msdf\u001b[0m\u001b[0;34m.\u001b[0m\u001b[0mn\u001b[0m\u001b[0;34m)\u001b[0m\u001b[0;34m.\u001b[0m\u001b[0mshow\u001b[0m\u001b[0;34m(\u001b[0m\u001b[0;36m3\u001b[0m\u001b[0;34m)\u001b[0m\u001b[0;34m\u001b[0m\u001b[0;34m\u001b[0m\u001b[0m\n\u001b[0m",
      "\u001b[0;32m/opt/homebrew/anaconda3/lib/python3.9/site-packages/pyspark/sql/dataframe.py\u001b[0m in \u001b[0;36mselect\u001b[0;34m(self, *cols)\u001b[0m\n\u001b[1;32m   1683\u001b[0m         \u001b[0;34m[\u001b[0m\u001b[0mRow\u001b[0m\u001b[0;34m(\u001b[0m\u001b[0mname\u001b[0m\u001b[0;34m=\u001b[0m\u001b[0;34m'Alice'\u001b[0m\u001b[0;34m,\u001b[0m \u001b[0mage\u001b[0m\u001b[0;34m=\u001b[0m\u001b[0;36m12\u001b[0m\u001b[0;34m)\u001b[0m\u001b[0;34m,\u001b[0m \u001b[0mRow\u001b[0m\u001b[0;34m(\u001b[0m\u001b[0mname\u001b[0m\u001b[0;34m=\u001b[0m\u001b[0;34m'Bob'\u001b[0m\u001b[0;34m,\u001b[0m \u001b[0mage\u001b[0m\u001b[0;34m=\u001b[0m\u001b[0;36m15\u001b[0m\u001b[0;34m)\u001b[0m\u001b[0;34m]\u001b[0m\u001b[0;34m\u001b[0m\u001b[0;34m\u001b[0m\u001b[0m\n\u001b[1;32m   1684\u001b[0m         \"\"\"\n\u001b[0;32m-> 1685\u001b[0;31m         \u001b[0mjdf\u001b[0m \u001b[0;34m=\u001b[0m \u001b[0mself\u001b[0m\u001b[0;34m.\u001b[0m\u001b[0m_jdf\u001b[0m\u001b[0;34m.\u001b[0m\u001b[0mselect\u001b[0m\u001b[0;34m(\u001b[0m\u001b[0mself\u001b[0m\u001b[0;34m.\u001b[0m\u001b[0m_jcols\u001b[0m\u001b[0;34m(\u001b[0m\u001b[0;34m*\u001b[0m\u001b[0mcols\u001b[0m\u001b[0;34m)\u001b[0m\u001b[0;34m)\u001b[0m\u001b[0;34m\u001b[0m\u001b[0;34m\u001b[0m\u001b[0m\n\u001b[0m\u001b[1;32m   1686\u001b[0m         \u001b[0;32mreturn\u001b[0m \u001b[0mDataFrame\u001b[0m\u001b[0;34m(\u001b[0m\u001b[0mjdf\u001b[0m\u001b[0;34m,\u001b[0m \u001b[0mself\u001b[0m\u001b[0;34m.\u001b[0m\u001b[0msql_ctx\u001b[0m\u001b[0;34m)\u001b[0m\u001b[0;34m\u001b[0m\u001b[0;34m\u001b[0m\u001b[0m\n\u001b[1;32m   1687\u001b[0m \u001b[0;34m\u001b[0m\u001b[0m\n",
      "\u001b[0;32m/opt/homebrew/anaconda3/lib/python3.9/site-packages/py4j/java_gateway.py\u001b[0m in \u001b[0;36m__call__\u001b[0;34m(self, *args)\u001b[0m\n\u001b[1;32m   1319\u001b[0m \u001b[0;34m\u001b[0m\u001b[0m\n\u001b[1;32m   1320\u001b[0m         \u001b[0manswer\u001b[0m \u001b[0;34m=\u001b[0m \u001b[0mself\u001b[0m\u001b[0;34m.\u001b[0m\u001b[0mgateway_client\u001b[0m\u001b[0;34m.\u001b[0m\u001b[0msend_command\u001b[0m\u001b[0;34m(\u001b[0m\u001b[0mcommand\u001b[0m\u001b[0;34m)\u001b[0m\u001b[0;34m\u001b[0m\u001b[0;34m\u001b[0m\u001b[0m\n\u001b[0;32m-> 1321\u001b[0;31m         return_value = get_return_value(\n\u001b[0m\u001b[1;32m   1322\u001b[0m             answer, self.gateway_client, self.target_id, self.name)\n\u001b[1;32m   1323\u001b[0m \u001b[0;34m\u001b[0m\u001b[0m\n",
      "\u001b[0;32m/opt/homebrew/anaconda3/lib/python3.9/site-packages/pyspark/sql/utils.py\u001b[0m in \u001b[0;36mdeco\u001b[0;34m(*a, **kw)\u001b[0m\n\u001b[1;32m    115\u001b[0m                 \u001b[0;31m# Hide where the exception came from that shows a non-Pythonic\u001b[0m\u001b[0;34m\u001b[0m\u001b[0;34m\u001b[0m\u001b[0m\n\u001b[1;32m    116\u001b[0m                 \u001b[0;31m# JVM exception message.\u001b[0m\u001b[0;34m\u001b[0m\u001b[0;34m\u001b[0m\u001b[0m\n\u001b[0;32m--> 117\u001b[0;31m                 \u001b[0;32mraise\u001b[0m \u001b[0mconverted\u001b[0m \u001b[0;32mfrom\u001b[0m \u001b[0;32mNone\u001b[0m\u001b[0;34m\u001b[0m\u001b[0;34m\u001b[0m\u001b[0m\n\u001b[0m\u001b[1;32m    118\u001b[0m             \u001b[0;32melse\u001b[0m\u001b[0;34m:\u001b[0m\u001b[0;34m\u001b[0m\u001b[0;34m\u001b[0m\u001b[0m\n\u001b[1;32m    119\u001b[0m                 \u001b[0;32mraise\u001b[0m\u001b[0;34m\u001b[0m\u001b[0;34m\u001b[0m\u001b[0m\n",
      "\u001b[0;31mAnalysisException\u001b[0m: cannot resolve '(abool + n)' due to data type mismatch: differing types in '(abool + n)' (boolean and double).;\n'Project [unresolvedalias((abool#1086 + n#1084), Some(org.apache.spark.sql.Column$$Lambda$3270/0x0000000801279840@4e01bedb))]\n+- Project [group#1085, abool#1086, n#1084, n2#1389, POWER(n#1084, cast(2 as double)) AS n3#1411]\n   +- Project [group#1085, abool#1086, n#1084, (n#1084 * cast(-1 as double)) AS n2#1389]\n      +- LogicalRDD [n#1084, group#1085, abool#1086], false\n"
     ]
    }
   ],
   "source": [
    "sdf.select(sdf.abool + sdf.n).show(3)"
   ]
  },
  {
   "cell_type": "code",
   "execution_count": null,
   "id": "314c64bb",
   "metadata": {},
   "outputs": [],
   "source": [
    "sdf.select(sdf.n3 + sdf.n).show(3)"
   ]
  },
  {
   "cell_type": "markdown",
   "id": "1a32fd1a",
   "metadata": {},
   "source": [
    "### 3. Type Casting"
   ]
  },
  {
   "cell_type": "markdown",
   "id": "157ccf81",
   "metadata": {},
   "source": [
    "#### ii. Use .printSchema to view the datatypes in your dataframe.\n"
   ]
  },
  {
   "cell_type": "code",
   "execution_count": null,
   "id": "f71eeb8b",
   "metadata": {},
   "outputs": [],
   "source": [
    "sdf.printSchema()"
   ]
  },
  {
   "cell_type": "markdown",
   "id": "d7462110",
   "metadata": {},
   "source": [
    "#### iii. Use .dtypes to view the datatypes in your dataframe"
   ]
  },
  {
   "cell_type": "code",
   "execution_count": null,
   "id": "b8a8b9d5",
   "metadata": {},
   "outputs": [],
   "source": [
    "sdf.dtypes"
   ]
  },
  {
   "cell_type": "markdown",
   "id": "140c1136",
   "metadata": {},
   "source": [
    "#### iv. What is the difference between the two code samples below?\n",
    "`df.abool.cast('int')`\n",
    "\n",
    "`df.select(df.abool.cast('int')).show()`"
   ]
  },
  {
   "cell_type": "code",
   "execution_count": null,
   "id": "cbe3420e",
   "metadata": {},
   "outputs": [],
   "source": [
    "sdf.abool.cast('int')"
   ]
  },
  {
   "cell_type": "code",
   "execution_count": null,
   "id": "76b80e31",
   "metadata": {},
   "outputs": [],
   "source": [
    "sdf.select(sdf.abool.cast('int')).show(3)"
   ]
  },
  {
   "cell_type": "markdown",
   "id": "c28ac164",
   "metadata": {},
   "source": [
    "#### v. Use .select and .cast to convert the abool column to an integer type. View the results.\n"
   ]
  },
  {
   "cell_type": "code",
   "execution_count": null,
   "id": "2d3e415f",
   "metadata": {},
   "outputs": [],
   "source": [
    "sdf.select(sdf.abool.cast('int')).show(3)"
   ]
  },
  {
   "cell_type": "markdown",
   "id": "632d84b3",
   "metadata": {},
   "source": [
    "#### vi. Convert the group column to a integer data type and view the results. What happens?\n"
   ]
  },
  {
   "cell_type": "code",
   "execution_count": null,
   "id": "5a8cc9a7",
   "metadata": {},
   "outputs": [],
   "source": [
    "sdf.select(sdf.group.cast('int')).show(3)"
   ]
  },
  {
   "cell_type": "markdown",
   "id": "1bcd1418",
   "metadata": {},
   "source": [
    "#### vii. Convert the n column to a integer data type and view the results. What happens?\n"
   ]
  },
  {
   "cell_type": "code",
   "execution_count": null,
   "id": "f989cdd6",
   "metadata": {},
   "outputs": [],
   "source": [
    "sdf.select(sdf.n, sdf.n.cast('int').alias('n_as_int')).show(7)"
   ]
  },
  {
   "cell_type": "markdown",
   "id": "541bb488",
   "metadata": {},
   "source": [
    "#### viii. Convert the abool column to a string data type and view the results. What happens?\n"
   ]
  },
  {
   "cell_type": "code",
   "execution_count": null,
   "id": "5823e1f9",
   "metadata": {},
   "outputs": [],
   "source": [
    "sdf.select(sdf.abool, sdf.abool.cast('string').alias('abool_as_string')).show(10)"
   ]
  },
  {
   "cell_type": "markdown",
   "id": "65d52988",
   "metadata": {},
   "source": [
    "### 4. Built-in Functions"
   ]
  },
  {
   "cell_type": "markdown",
   "id": "e4dd5fd5",
   "metadata": {},
   "source": [
    "#### ii. Import the necessary functions from pyspark.sql.functions"
   ]
  },
  {
   "cell_type": "code",
   "execution_count": null,
   "id": "96d515c2",
   "metadata": {},
   "outputs": [],
   "source": [
    "import pyspark.sql.functions as F"
   ]
  },
  {
   "cell_type": "markdown",
   "id": "1d70bc42",
   "metadata": {},
   "source": [
    "#### ii. Find the highest n value."
   ]
  },
  {
   "cell_type": "code",
   "execution_count": null,
   "id": "fcc5b360",
   "metadata": {},
   "outputs": [],
   "source": [
    "sdf.select(F.max(sdf.n)).show()"
   ]
  },
  {
   "cell_type": "markdown",
   "id": "c0402ec1",
   "metadata": {},
   "source": [
    "#### iv. Find the lowest n value."
   ]
  },
  {
   "cell_type": "code",
   "execution_count": null,
   "id": "5824e472",
   "metadata": {},
   "outputs": [],
   "source": [
    "sdf.select(F.min(sdf.n)).show()"
   ]
  },
  {
   "cell_type": "markdown",
   "id": "bbb94ee8",
   "metadata": {},
   "source": [
    "#### v. Find the average n value."
   ]
  },
  {
   "cell_type": "code",
   "execution_count": null,
   "id": "6c79a803",
   "metadata": {},
   "outputs": [],
   "source": [
    "sdf.select(F.mean(sdf.n)).show()"
   ]
  },
  {
   "cell_type": "markdown",
   "id": "86efba40",
   "metadata": {},
   "source": [
    "#### vi. Use concat to change the group column to say, e.g. \"Group: x\" or \"Group: y\""
   ]
  },
  {
   "cell_type": "code",
   "execution_count": null,
   "id": "718ece38",
   "metadata": {},
   "outputs": [],
   "source": [
    "sdf.select(F.concat(F.lit('Group: '), sdf.group)).show(5)"
   ]
  },
  {
   "cell_type": "markdown",
   "id": "97ab9131",
   "metadata": {},
   "source": [
    "#### vii. Use concat to combine the n and group columns to produce results that look like this: \"x: -1.432\" or \"z: 2.352\""
   ]
  },
  {
   "cell_type": "code",
   "execution_count": null,
   "id": "263bb268",
   "metadata": {},
   "outputs": [],
   "source": [
    "sdf.select(F.concat(sdf.group, F.lit(': '), sdf.n)).show(5, truncate=False)"
   ]
  },
  {
   "cell_type": "markdown",
   "id": "18b10107",
   "metadata": {},
   "source": [
    "### 5. When / Otherwise"
   ]
  },
  {
   "cell_type": "markdown",
   "id": "241d444c",
   "metadata": {},
   "source": [
    "#### ii. Use when and .otherwise to create a column that contains the text \"It is true\" when abool is true and \"It is false\"\" when abool is false."
   ]
  },
  {
   "cell_type": "code",
   "execution_count": null,
   "id": "5f766a7c",
   "metadata": {},
   "outputs": [],
   "source": [
    "sdf.select(sdf.abool,\n",
    "           F.when(sdf.abool == True, F.lit('It is true'))\n",
    "            .otherwise('It is False')\n",
    "            .alias('What is it?')\n",
    "          ).show(10)"
   ]
  },
  {
   "cell_type": "markdown",
   "id": "f26581e2",
   "metadata": {},
   "source": [
    "#### iii. Create a column that contains 0 if n is less than 0, otherwise, the original n value."
   ]
  },
  {
   "cell_type": "code",
   "execution_count": null,
   "id": "76736f73",
   "metadata": {},
   "outputs": [],
   "source": [
    "sdf.select(sdf.n,\n",
    "           F.when(sdf.n < 0, 0)\n",
    "            .otherwise(sdf.n)\n",
    "          ).show(3)"
   ]
  },
  {
   "cell_type": "markdown",
   "id": "de156762",
   "metadata": {},
   "source": [
    "### 6. Filter / Where"
   ]
  },
  {
   "cell_type": "markdown",
   "id": "27212ccc",
   "metadata": {},
   "source": [
    "#### ii. Use .filter or .where to select just the rows where the group is y and view the results."
   ]
  },
  {
   "cell_type": "code",
   "execution_count": null,
   "id": "eb6d7efd",
   "metadata": {},
   "outputs": [],
   "source": [
    "sdf.filter(sdf.group == 'y').show(3)"
   ]
  },
  {
   "cell_type": "markdown",
   "id": "41f91ff8",
   "metadata": {},
   "source": [
    "#### iii. Select just the columns where the abool column is false and view the results."
   ]
  },
  {
   "cell_type": "code",
   "execution_count": 98,
   "id": "1c445f1d",
   "metadata": {},
   "outputs": [
    {
     "name": "stdout",
     "output_type": "stream",
     "text": [
      "+-----+-----+--------------------+--------------------+--------------------+\n",
      "|group|abool|                   n|                  n2|                  n3|\n",
      "+-----+-----+--------------------+--------------------+--------------------+\n",
      "|    z|false|  -0.712390662050588|   0.712390662050588|   0.507500455376875|\n",
      "|    x|false|   0.753766378659703|  -0.753766378659703|  0.5681637535977627|\n",
      "|    z|false|-0.04450307833805...|0.044503078338053455|0.001980523981562...|\n",
      "+-----+-----+--------------------+--------------------+--------------------+\n",
      "only showing top 3 rows\n",
      "\n"
     ]
    }
   ],
   "source": [
    "sdf.filter(sdf.abool == False).show(3)"
   ]
  },
  {
   "cell_type": "markdown",
   "id": "80e956d5",
   "metadata": {},
   "source": [
    "#### iv. Find the columns where the group column is not y."
   ]
  },
  {
   "cell_type": "code",
   "execution_count": 99,
   "id": "7183218c",
   "metadata": {},
   "outputs": [
    {
     "name": "stdout",
     "output_type": "stream",
     "text": [
      "+-----+-----+--------------------+--------------------+--------------------+\n",
      "|group|abool|                   n|                  n2|                  n3|\n",
      "+-----+-----+--------------------+--------------------+--------------------+\n",
      "|    z|false|  -0.712390662050588|   0.712390662050588|   0.507500455376875|\n",
      "|    x|false|   0.753766378659703|  -0.753766378659703|  0.5681637535977627|\n",
      "|    z|false|-0.04450307833805...|0.044503078338053455|0.001980523981562...|\n",
      "+-----+-----+--------------------+--------------------+--------------------+\n",
      "only showing top 3 rows\n",
      "\n"
     ]
    }
   ],
   "source": [
    "sdf.filter(sdf.group != 'y').show(3)"
   ]
  },
  {
   "cell_type": "markdown",
   "id": "900cf767",
   "metadata": {},
   "source": [
    "#### v. Find the columns where n is positive."
   ]
  },
  {
   "cell_type": "code",
   "execution_count": 100,
   "id": "93c47e8b",
   "metadata": {},
   "outputs": [
    {
     "name": "stdout",
     "output_type": "stream",
     "text": [
      "+-----+-----+-------------------+--------------------+-------------------+\n",
      "|group|abool|                  n|                  n2|                 n3|\n",
      "+-----+-----+-------------------+--------------------+-------------------+\n",
      "|    x|false|  0.753766378659703|  -0.753766378659703| 0.5681637535977627|\n",
      "|    y|false|0.45181233874578974|-0.45181233874578974|0.20413438944294027|\n",
      "|    z|false| 1.3451017084510097| -1.3451017084510097| 1.8092986060778251|\n",
      "+-----+-----+-------------------+--------------------+-------------------+\n",
      "only showing top 3 rows\n",
      "\n"
     ]
    }
   ],
   "source": [
    "sdf.filter(sdf.n > 0).show(3)"
   ]
  },
  {
   "cell_type": "markdown",
   "id": "debfdce8",
   "metadata": {},
   "source": [
    "#### vi. Find the columns where abool is true and the group column is z."
   ]
  },
  {
   "cell_type": "code",
   "execution_count": 101,
   "id": "ea925c20",
   "metadata": {},
   "outputs": [
    {
     "name": "stdout",
     "output_type": "stream",
     "text": [
      "+-----+-----+------------------+-------------------+------------------+\n",
      "|group|abool|                 n|                 n2|                n3|\n",
      "+-----+-----+------------------+-------------------+------------------+\n",
      "|    z| true|1.4786857374358966|-1.4786857374358966|2.1865115100963415|\n",
      "+-----+-----+------------------+-------------------+------------------+\n",
      "\n"
     ]
    }
   ],
   "source": [
    "sdf.filter((sdf.abool == True) & (sdf.group == 'z')).show()"
   ]
  },
  {
   "cell_type": "markdown",
   "id": "26487b11",
   "metadata": {},
   "source": [
    "#### vii. Find the columns where abool is true or the group column is z."
   ]
  },
  {
   "cell_type": "code",
   "execution_count": 102,
   "id": "c0fa8072",
   "metadata": {},
   "outputs": [
    {
     "name": "stdout",
     "output_type": "stream",
     "text": [
      "+-----+-----+--------------------+--------------------+--------------------+\n",
      "|group|abool|                   n|                  n2|                  n3|\n",
      "+-----+-----+--------------------+--------------------+--------------------+\n",
      "|    z|false|  -0.712390662050588|   0.712390662050588|   0.507500455376875|\n",
      "|    z|false|-0.04450307833805...|0.044503078338053455|0.001980523981562...|\n",
      "|    z|false|  1.3451017084510097| -1.3451017084510097|  1.8092986060778251|\n",
      "+-----+-----+--------------------+--------------------+--------------------+\n",
      "only showing top 3 rows\n",
      "\n"
     ]
    }
   ],
   "source": [
    "sdf.filter((sdf.abool) | (sdf.group == 'z')).show(3)"
   ]
  },
  {
   "cell_type": "markdown",
   "id": "01f65ef6",
   "metadata": {},
   "source": [
    "#### viii. Find the columns where abool is false and n is less than 1"
   ]
  },
  {
   "cell_type": "code",
   "execution_count": 103,
   "id": "1acce064",
   "metadata": {},
   "outputs": [
    {
     "name": "stdout",
     "output_type": "stream",
     "text": [
      "+-----+-----+--------------------+--------------------+--------------------+\n",
      "|group|abool|                   n|                  n2|                  n3|\n",
      "+-----+-----+--------------------+--------------------+--------------------+\n",
      "|    z|false|  -0.712390662050588|   0.712390662050588|   0.507500455376875|\n",
      "|    x|false|   0.753766378659703|  -0.753766378659703|  0.5681637535977627|\n",
      "|    z|false|-0.04450307833805...|0.044503078338053455|0.001980523981562...|\n",
      "+-----+-----+--------------------+--------------------+--------------------+\n",
      "only showing top 3 rows\n",
      "\n"
     ]
    }
   ],
   "source": [
    "sdf.filter((~ sdf.abool) & (sdf.n < 1)).show(3)"
   ]
  },
  {
   "cell_type": "markdown",
   "id": "66675faa",
   "metadata": {},
   "source": [
    "#### ix. Find the columns where abool is false or n is less than 1"
   ]
  },
  {
   "cell_type": "code",
   "execution_count": 104,
   "id": "e88459e9",
   "metadata": {},
   "outputs": [
    {
     "name": "stdout",
     "output_type": "stream",
     "text": [
      "+-----+-----+--------------------+--------------------+--------------------+\n",
      "|group|abool|                   n|                  n2|                  n3|\n",
      "+-----+-----+--------------------+--------------------+--------------------+\n",
      "|    z|false|  -0.712390662050588|   0.712390662050588|   0.507500455376875|\n",
      "|    x|false|   0.753766378659703|  -0.753766378659703|  0.5681637535977627|\n",
      "|    z|false|-0.04450307833805...|0.044503078338053455|0.001980523981562...|\n",
      "+-----+-----+--------------------+--------------------+--------------------+\n",
      "only showing top 3 rows\n",
      "\n"
     ]
    }
   ],
   "source": [
    "sdf.filter((~ sdf.abool) | (sdf.n < 1)).show(3)"
   ]
  },
  {
   "cell_type": "markdown",
   "id": "b1bc6aeb",
   "metadata": {},
   "source": [
    "### 7. Sorting"
   ]
  },
  {
   "cell_type": "markdown",
   "id": "2bcc439f",
   "metadata": {},
   "source": [
    "#### ii. Sort by the n value."
   ]
  },
  {
   "cell_type": "code",
   "execution_count": 105,
   "id": "f5f353cc",
   "metadata": {},
   "outputs": [
    {
     "name": "stdout",
     "output_type": "stream",
     "text": [
      "+-----+-----+-------------------+------------------+------------------+\n",
      "|group|abool|                  n|                n2|                n3|\n",
      "+-----+-----+-------------------+------------------+------------------+\n",
      "|    y|false| -1.261605945319069| 1.261605945319069| 1.591649561264422|\n",
      "|    y| true|-1.0453771305385342|1.0453771305385342|1.0928133450529796|\n",
      "|    x|false|-0.7889890249515489|0.7889890249515489|0.6225036814939958|\n",
      "+-----+-----+-------------------+------------------+------------------+\n",
      "only showing top 3 rows\n",
      "\n"
     ]
    }
   ],
   "source": [
    "sdf.sort('n').show(3)"
   ]
  },
  {
   "cell_type": "markdown",
   "id": "adcc9eb6",
   "metadata": {},
   "source": [
    "#### iii. Sort by the group value, both ascending and descending."
   ]
  },
  {
   "cell_type": "code",
   "execution_count": 106,
   "id": "4a607d82",
   "metadata": {},
   "outputs": [
    {
     "name": "stdout",
     "output_type": "stream",
     "text": [
      "+-----+-----+--------------------+--------------------+--------------------+\n",
      "|group|abool|                   n|                  n2|                  n3|\n",
      "+-----+-----+--------------------+--------------------+--------------------+\n",
      "|    x|false| 0.31735092273633597|-0.31735092273633597| 0.10071160816160388|\n",
      "|    x|false| -0.7889890249515489|  0.7889890249515489|  0.6225036814939958|\n",
      "|    x|false|   0.753766378659703|  -0.753766378659703|  0.5681637535977627|\n",
      "|    x|false|  0.8612113741693206| -0.8612113741693206|  0.7416850309986095|\n",
      "|    x|false|  0.6062886568962988| -0.6062886568962988|   0.367585935481118|\n",
      "|    x| true|-0.02677164998644...|0.026771649986440726|7.167212429964917E-4|\n",
      "|    y| true|  0.5628467852810314| -0.5628467852810314| 0.31679650370119145|\n",
      "|    y|false|  -1.261605945319069|   1.261605945319069|   1.591649561264422|\n",
      "|    y|false|  0.9137407048596775| -0.9137407048596775|  0.8349220757174602|\n",
      "|    y|false| 0.45181233874578974|-0.45181233874578974| 0.20413438944294027|\n",
      "+-----+-----+--------------------+--------------------+--------------------+\n",
      "only showing top 10 rows\n",
      "\n"
     ]
    }
   ],
   "source": [
    "sdf.sort('group').show(10) # ascending"
   ]
  },
  {
   "cell_type": "code",
   "execution_count": 107,
   "id": "9e819515",
   "metadata": {},
   "outputs": [
    {
     "name": "stdout",
     "output_type": "stream",
     "text": [
      "+-----+-----+--------------------+--------------------+--------------------+\n",
      "|group|abool|                   n|                  n2|                  n3|\n",
      "+-----+-----+--------------------+--------------------+--------------------+\n",
      "|    z|false|-0.04450307833805...|0.044503078338053455|0.001980523981562...|\n",
      "|    z|false|  1.3501878997225267| -1.3501878997225267|  1.8230073645571279|\n",
      "|    z|false|  1.3451017084510097| -1.3451017084510097|  1.8092986060778251|\n",
      "|    z| true|  1.4786857374358966| -1.4786857374358966|  2.1865115100963415|\n",
      "|    z|false|  -0.712390662050588|   0.712390662050588|   0.507500455376875|\n",
      "|    z|false| 0.12730328020698067|-0.12730328020698067|0.016206125151457036|\n",
      "|    y| true|-0.24332625188556253| 0.24332625188556253| 0.05920766485667622|\n",
      "|    y| true|  0.5628467852810314| -0.5628467852810314| 0.31679650370119145|\n",
      "|    y|false|  0.9137407048596775| -0.9137407048596775|  0.8349220757174602|\n",
      "|    y| true| -1.0453771305385342|  1.0453771305385342|  1.0928133450529796|\n",
      "+-----+-----+--------------------+--------------------+--------------------+\n",
      "only showing top 10 rows\n",
      "\n"
     ]
    }
   ],
   "source": [
    "sdf.sort('group', ascending=False).show(10) # descending"
   ]
  },
  {
   "cell_type": "markdown",
   "id": "ee85b17d",
   "metadata": {},
   "source": [
    "#### iv. Sort by the group value first, then, within each group, sort by n value."
   ]
  },
  {
   "cell_type": "code",
   "execution_count": 108,
   "id": "b49d1093",
   "metadata": {},
   "outputs": [
    {
     "name": "stdout",
     "output_type": "stream",
     "text": [
      "+-----+-----+--------------------+--------------------+--------------------+\n",
      "|group|abool|                   n|                  n2|                  n3|\n",
      "+-----+-----+--------------------+--------------------+--------------------+\n",
      "|    x|false| -0.7889890249515489|  0.7889890249515489|  0.6225036814939958|\n",
      "|    x| true|-0.02677164998644...|0.026771649986440726|7.167212429964917E-4|\n",
      "|    x|false| 0.31735092273633597|-0.31735092273633597| 0.10071160816160388|\n",
      "|    x|false|  0.6062886568962988| -0.6062886568962988|   0.367585935481118|\n",
      "|    x|false|   0.753766378659703|  -0.753766378659703|  0.5681637535977627|\n",
      "|    x|false|  0.8612113741693206| -0.8612113741693206|  0.7416850309986095|\n",
      "|    y|false|  -1.261605945319069|   1.261605945319069|   1.591649561264422|\n",
      "|    y| true| -1.0453771305385342|  1.0453771305385342|  1.0928133450529796|\n",
      "|    y| true|-0.24332625188556253| 0.24332625188556253| 0.05920766485667622|\n",
      "|    y|false| 0.45181233874578974|-0.45181233874578974| 0.20413438944294027|\n",
      "|    y|false|  0.5323378882945463| -0.5323378882945463|  0.2833836273138969|\n",
      "|    y| true|  0.5628467852810314| -0.5628467852810314| 0.31679650370119145|\n",
      "|    y|false|  0.9137407048596775| -0.9137407048596775|  0.8349220757174602|\n",
      "|    y| true|  2.1503829673811126| -2.1503829673811126|   4.624146906402799|\n",
      "|    z|false|  -0.712390662050588|   0.712390662050588|   0.507500455376875|\n",
      "|    z|false|-0.04450307833805...|0.044503078338053455|0.001980523981562...|\n",
      "|    z|false| 0.12730328020698067|-0.12730328020698067|0.016206125151457036|\n",
      "|    z|false|  1.3451017084510097| -1.3451017084510097|  1.8092986060778251|\n",
      "|    z|false|  1.3501878997225267| -1.3501878997225267|  1.8230073645571279|\n",
      "|    z| true|  1.4786857374358966| -1.4786857374358966|  2.1865115100963415|\n",
      "+-----+-----+--------------------+--------------------+--------------------+\n",
      "\n"
     ]
    }
   ],
   "source": [
    "sdf.sort('group', 'n').show()"
   ]
  },
  {
   "cell_type": "markdown",
   "id": "b82cb122",
   "metadata": {},
   "source": [
    "#### v. Sort by abool, group, and n. Does it matter in what order you specify the columns when sorting?"
   ]
  },
  {
   "cell_type": "markdown",
   "id": "9f64b1c6",
   "metadata": {},
   "source": [
    "of course it does"
   ]
  },
  {
   "cell_type": "code",
   "execution_count": 109,
   "id": "bda45eaf",
   "metadata": {},
   "outputs": [
    {
     "name": "stdout",
     "output_type": "stream",
     "text": [
      "+-----+-----+--------------------+--------------------+--------------------+\n",
      "|group|abool|                   n|                  n2|                  n3|\n",
      "+-----+-----+--------------------+--------------------+--------------------+\n",
      "|    x|false| -0.7889890249515489|  0.7889890249515489|  0.6225036814939958|\n",
      "|    x|false| 0.31735092273633597|-0.31735092273633597| 0.10071160816160388|\n",
      "|    x|false|  0.6062886568962988| -0.6062886568962988|   0.367585935481118|\n",
      "|    x|false|   0.753766378659703|  -0.753766378659703|  0.5681637535977627|\n",
      "|    x|false|  0.8612113741693206| -0.8612113741693206|  0.7416850309986095|\n",
      "|    y|false|  -1.261605945319069|   1.261605945319069|   1.591649561264422|\n",
      "|    y|false| 0.45181233874578974|-0.45181233874578974| 0.20413438944294027|\n",
      "|    y|false|  0.5323378882945463| -0.5323378882945463|  0.2833836273138969|\n",
      "|    y|false|  0.9137407048596775| -0.9137407048596775|  0.8349220757174602|\n",
      "|    z|false|  -0.712390662050588|   0.712390662050588|   0.507500455376875|\n",
      "|    z|false|-0.04450307833805...|0.044503078338053455|0.001980523981562...|\n",
      "|    z|false| 0.12730328020698067|-0.12730328020698067|0.016206125151457036|\n",
      "|    z|false|  1.3451017084510097| -1.3451017084510097|  1.8092986060778251|\n",
      "|    z|false|  1.3501878997225267| -1.3501878997225267|  1.8230073645571279|\n",
      "|    x| true|-0.02677164998644...|0.026771649986440726|7.167212429964917E-4|\n",
      "|    y| true| -1.0453771305385342|  1.0453771305385342|  1.0928133450529796|\n",
      "|    y| true|-0.24332625188556253| 0.24332625188556253| 0.05920766485667622|\n",
      "|    y| true|  0.5628467852810314| -0.5628467852810314| 0.31679650370119145|\n",
      "|    y| true|  2.1503829673811126| -2.1503829673811126|   4.624146906402799|\n",
      "|    z| true|  1.4786857374358966| -1.4786857374358966|  2.1865115100963415|\n",
      "+-----+-----+--------------------+--------------------+--------------------+\n",
      "\n"
     ]
    }
   ],
   "source": [
    "sdf.sort('abool', 'group', 'n').show()"
   ]
  },
  {
   "cell_type": "code",
   "execution_count": 110,
   "id": "9ef3fe6c",
   "metadata": {},
   "outputs": [
    {
     "name": "stdout",
     "output_type": "stream",
     "text": [
      "+-----+-----+--------------------+--------------------+--------------------+\n",
      "|group|abool|                   n|                  n2|                  n3|\n",
      "+-----+-----+--------------------+--------------------+--------------------+\n",
      "|    x|false| -0.7889890249515489|  0.7889890249515489|  0.6225036814939958|\n",
      "|    x|false| 0.31735092273633597|-0.31735092273633597| 0.10071160816160388|\n",
      "|    x|false|  0.6062886568962988| -0.6062886568962988|   0.367585935481118|\n",
      "|    x|false|   0.753766378659703|  -0.753766378659703|  0.5681637535977627|\n",
      "|    x|false|  0.8612113741693206| -0.8612113741693206|  0.7416850309986095|\n",
      "|    x| true|-0.02677164998644...|0.026771649986440726|7.167212429964917E-4|\n",
      "|    y|false|  -1.261605945319069|   1.261605945319069|   1.591649561264422|\n",
      "|    y|false| 0.45181233874578974|-0.45181233874578974| 0.20413438944294027|\n",
      "|    y|false|  0.5323378882945463| -0.5323378882945463|  0.2833836273138969|\n",
      "|    y|false|  0.9137407048596775| -0.9137407048596775|  0.8349220757174602|\n",
      "|    y| true| -1.0453771305385342|  1.0453771305385342|  1.0928133450529796|\n",
      "|    y| true|-0.24332625188556253| 0.24332625188556253| 0.05920766485667622|\n",
      "|    y| true|  0.5628467852810314| -0.5628467852810314| 0.31679650370119145|\n",
      "|    y| true|  2.1503829673811126| -2.1503829673811126|   4.624146906402799|\n",
      "|    z|false|  -0.712390662050588|   0.712390662050588|   0.507500455376875|\n",
      "|    z|false|-0.04450307833805...|0.044503078338053455|0.001980523981562...|\n",
      "|    z|false| 0.12730328020698067|-0.12730328020698067|0.016206125151457036|\n",
      "|    z|false|  1.3451017084510097| -1.3451017084510097|  1.8092986060778251|\n",
      "|    z|false|  1.3501878997225267| -1.3501878997225267|  1.8230073645571279|\n",
      "|    z| true|  1.4786857374358966| -1.4786857374358966|  2.1865115100963415|\n",
      "+-----+-----+--------------------+--------------------+--------------------+\n",
      "\n"
     ]
    }
   ],
   "source": [
    "sdf.sort('group', 'abool', 'n').show()"
   ]
  },
  {
   "cell_type": "markdown",
   "id": "9d3dfaae",
   "metadata": {},
   "source": [
    "### 8. Aggregating"
   ]
  },
  {
   "cell_type": "markdown",
   "id": "b250e2c8",
   "metadata": {},
   "source": [
    "#### i. What is the average n value for each group in the group column?"
   ]
  },
  {
   "cell_type": "code",
   "execution_count": 111,
   "id": "af21c46e",
   "metadata": {},
   "outputs": [
    {
     "name": "stdout",
     "output_type": "stream",
     "text": [
      "+-----+------------------+\n",
      "|group|            avg(n)|\n",
      "+-----+------------------+\n",
      "|    x|0.2871427762539448|\n",
      "|    z| 0.590730814237962|\n",
      "|    y| 0.257601419602374|\n",
      "+-----+------------------+\n",
      "\n"
     ]
    }
   ],
   "source": [
    "sdf.groupby('group').agg(F.mean('n')).show()"
   ]
  },
  {
   "cell_type": "markdown",
   "id": "c2fe5383",
   "metadata": {},
   "source": [
    "#### ii. What is the maximum n value for each group in the group column?"
   ]
  },
  {
   "cell_type": "code",
   "execution_count": 112,
   "id": "131358c9",
   "metadata": {},
   "outputs": [
    {
     "name": "stdout",
     "output_type": "stream",
     "text": [
      "+-----+------------------+\n",
      "|group|            max(n)|\n",
      "+-----+------------------+\n",
      "|    x|0.8612113741693206|\n",
      "|    z|1.4786857374358966|\n",
      "|    y|2.1503829673811126|\n",
      "+-----+------------------+\n",
      "\n"
     ]
    }
   ],
   "source": [
    "sdf.groupby('group').agg(F.max('n')).show()"
   ]
  },
  {
   "cell_type": "markdown",
   "id": "36e92acd",
   "metadata": {},
   "source": [
    "#### iii. What is the minimum n value by abool?"
   ]
  },
  {
   "cell_type": "code",
   "execution_count": 113,
   "id": "9ed7a49a",
   "metadata": {},
   "outputs": [
    {
     "name": "stdout",
     "output_type": "stream",
     "text": [
      "+-----+-------------------+\n",
      "|abool|             min(n)|\n",
      "+-----+-------------------+\n",
      "|false| -1.261605945319069|\n",
      "| true|-1.0453771305385342|\n",
      "+-----+-------------------+\n",
      "\n"
     ]
    }
   ],
   "source": [
    "sdf.groupby('abool').agg(F.min('n')).show()"
   ]
  },
  {
   "cell_type": "markdown",
   "id": "683954c4",
   "metadata": {},
   "source": [
    "#### iv. What is the average n value for each unique combination of the group and abool column?"
   ]
  },
  {
   "cell_type": "code",
   "execution_count": 114,
   "id": "f5d36d01",
   "metadata": {},
   "outputs": [
    {
     "name": "stdout",
     "output_type": "stream",
     "text": [
      "+-----+-----+--------------------+\n",
      "|group|abool|              avg(n)|\n",
      "+-----+-----+--------------------+\n",
      "|    z|false| 0.41313982959837514|\n",
      "|    x|false|  0.3499256615020219|\n",
      "|    y|false| 0.15907124664523611|\n",
      "|    y| true| 0.35613159255951177|\n",
      "|    z| true|  1.4786857374358966|\n",
      "|    x| true|-0.02677164998644...|\n",
      "+-----+-----+--------------------+\n",
      "\n"
     ]
    }
   ],
   "source": [
    "sdf.groupby('group', 'abool').agg(F.mean('n')).show()"
   ]
  },
  {
   "cell_type": "markdown",
   "id": "fc069b4c",
   "metadata": {},
   "source": [
    "### 9. Spark SQL"
   ]
  },
  {
   "cell_type": "markdown",
   "id": "6714547f",
   "metadata": {},
   "source": [
    "#### ii. Turn your dataframe into a table that can be queried with spark SQL. Name the table my_df. Answer the rest of the questions in this section with a spark sql query (spark.sql) against my_df. After each step, view the first 7 records from the dataframe."
   ]
  },
  {
   "cell_type": "code",
   "execution_count": 115,
   "id": "ba5c4124",
   "metadata": {},
   "outputs": [],
   "source": [
    "sdf.createOrReplaceTempView('my_df')"
   ]
  },
  {
   "cell_type": "markdown",
   "id": "9d8a5896",
   "metadata": {},
   "source": [
    "#### iii. What happens if you make a SQL syntax error in your query?"
   ]
  },
  {
   "cell_type": "code",
   "execution_count": 116,
   "id": "454b5a3b",
   "metadata": {},
   "outputs": [
    {
     "ename": "ParseException",
     "evalue": "\nmismatched input 'n3' expecting {<EOF>, ';'}(line 1, pos 12)\n\n== SQL ==\nSELECT n n2 n3 FROM my_df\n------------^^^\n",
     "output_type": "error",
     "traceback": [
      "\u001b[0;31m---------------------------------------------------------------------------\u001b[0m",
      "\u001b[0;31mParseException\u001b[0m                            Traceback (most recent call last)",
      "\u001b[0;32m/var/folders/zb/3lg9b5xn3831bhkh23bd5bs00000gn/T/ipykernel_62134/1658820634.py\u001b[0m in \u001b[0;36m<module>\u001b[0;34m\u001b[0m\n\u001b[0;32m----> 1\u001b[0;31m \u001b[0mspark\u001b[0m\u001b[0;34m.\u001b[0m\u001b[0msql\u001b[0m\u001b[0;34m(\u001b[0m\u001b[0;34m'''SELECT n n2 n3 FROM my_df'''\u001b[0m\u001b[0;34m)\u001b[0m\u001b[0;34m\u001b[0m\u001b[0;34m\u001b[0m\u001b[0m\n\u001b[0m",
      "\u001b[0;32m/opt/homebrew/anaconda3/lib/python3.9/site-packages/pyspark/sql/session.py\u001b[0m in \u001b[0;36msql\u001b[0;34m(self, sqlQuery)\u001b[0m\n\u001b[1;32m    721\u001b[0m         \u001b[0;34m[\u001b[0m\u001b[0mRow\u001b[0m\u001b[0;34m(\u001b[0m\u001b[0mf1\u001b[0m\u001b[0;34m=\u001b[0m\u001b[0;36m1\u001b[0m\u001b[0;34m,\u001b[0m \u001b[0mf2\u001b[0m\u001b[0;34m=\u001b[0m\u001b[0;34m'row1'\u001b[0m\u001b[0;34m)\u001b[0m\u001b[0;34m,\u001b[0m \u001b[0mRow\u001b[0m\u001b[0;34m(\u001b[0m\u001b[0mf1\u001b[0m\u001b[0;34m=\u001b[0m\u001b[0;36m2\u001b[0m\u001b[0;34m,\u001b[0m \u001b[0mf2\u001b[0m\u001b[0;34m=\u001b[0m\u001b[0;34m'row2'\u001b[0m\u001b[0;34m)\u001b[0m\u001b[0;34m,\u001b[0m \u001b[0mRow\u001b[0m\u001b[0;34m(\u001b[0m\u001b[0mf1\u001b[0m\u001b[0;34m=\u001b[0m\u001b[0;36m3\u001b[0m\u001b[0;34m,\u001b[0m \u001b[0mf2\u001b[0m\u001b[0;34m=\u001b[0m\u001b[0;34m'row3'\u001b[0m\u001b[0;34m)\u001b[0m\u001b[0;34m]\u001b[0m\u001b[0;34m\u001b[0m\u001b[0;34m\u001b[0m\u001b[0m\n\u001b[1;32m    722\u001b[0m         \"\"\"\n\u001b[0;32m--> 723\u001b[0;31m         \u001b[0;32mreturn\u001b[0m \u001b[0mDataFrame\u001b[0m\u001b[0;34m(\u001b[0m\u001b[0mself\u001b[0m\u001b[0;34m.\u001b[0m\u001b[0m_jsparkSession\u001b[0m\u001b[0;34m.\u001b[0m\u001b[0msql\u001b[0m\u001b[0;34m(\u001b[0m\u001b[0msqlQuery\u001b[0m\u001b[0;34m)\u001b[0m\u001b[0;34m,\u001b[0m \u001b[0mself\u001b[0m\u001b[0;34m.\u001b[0m\u001b[0m_wrapped\u001b[0m\u001b[0;34m)\u001b[0m\u001b[0;34m\u001b[0m\u001b[0;34m\u001b[0m\u001b[0m\n\u001b[0m\u001b[1;32m    724\u001b[0m \u001b[0;34m\u001b[0m\u001b[0m\n\u001b[1;32m    725\u001b[0m     \u001b[0;32mdef\u001b[0m \u001b[0mtable\u001b[0m\u001b[0;34m(\u001b[0m\u001b[0mself\u001b[0m\u001b[0;34m,\u001b[0m \u001b[0mtableName\u001b[0m\u001b[0;34m)\u001b[0m\u001b[0;34m:\u001b[0m\u001b[0;34m\u001b[0m\u001b[0;34m\u001b[0m\u001b[0m\n",
      "\u001b[0;32m/opt/homebrew/anaconda3/lib/python3.9/site-packages/py4j/java_gateway.py\u001b[0m in \u001b[0;36m__call__\u001b[0;34m(self, *args)\u001b[0m\n\u001b[1;32m   1319\u001b[0m \u001b[0;34m\u001b[0m\u001b[0m\n\u001b[1;32m   1320\u001b[0m         \u001b[0manswer\u001b[0m \u001b[0;34m=\u001b[0m \u001b[0mself\u001b[0m\u001b[0;34m.\u001b[0m\u001b[0mgateway_client\u001b[0m\u001b[0;34m.\u001b[0m\u001b[0msend_command\u001b[0m\u001b[0;34m(\u001b[0m\u001b[0mcommand\u001b[0m\u001b[0;34m)\u001b[0m\u001b[0;34m\u001b[0m\u001b[0;34m\u001b[0m\u001b[0m\n\u001b[0;32m-> 1321\u001b[0;31m         return_value = get_return_value(\n\u001b[0m\u001b[1;32m   1322\u001b[0m             answer, self.gateway_client, self.target_id, self.name)\n\u001b[1;32m   1323\u001b[0m \u001b[0;34m\u001b[0m\u001b[0m\n",
      "\u001b[0;32m/opt/homebrew/anaconda3/lib/python3.9/site-packages/pyspark/sql/utils.py\u001b[0m in \u001b[0;36mdeco\u001b[0;34m(*a, **kw)\u001b[0m\n\u001b[1;32m    115\u001b[0m                 \u001b[0;31m# Hide where the exception came from that shows a non-Pythonic\u001b[0m\u001b[0;34m\u001b[0m\u001b[0;34m\u001b[0m\u001b[0m\n\u001b[1;32m    116\u001b[0m                 \u001b[0;31m# JVM exception message.\u001b[0m\u001b[0;34m\u001b[0m\u001b[0;34m\u001b[0m\u001b[0m\n\u001b[0;32m--> 117\u001b[0;31m                 \u001b[0;32mraise\u001b[0m \u001b[0mconverted\u001b[0m \u001b[0;32mfrom\u001b[0m \u001b[0;32mNone\u001b[0m\u001b[0;34m\u001b[0m\u001b[0;34m\u001b[0m\u001b[0m\n\u001b[0m\u001b[1;32m    118\u001b[0m             \u001b[0;32melse\u001b[0m\u001b[0;34m:\u001b[0m\u001b[0;34m\u001b[0m\u001b[0;34m\u001b[0m\u001b[0m\n\u001b[1;32m    119\u001b[0m                 \u001b[0;32mraise\u001b[0m\u001b[0;34m\u001b[0m\u001b[0;34m\u001b[0m\u001b[0m\n",
      "\u001b[0;31mParseException\u001b[0m: \nmismatched input 'n3' expecting {<EOF>, ';'}(line 1, pos 12)\n\n== SQL ==\nSELECT n n2 n3 FROM my_df\n------------^^^\n"
     ]
    }
   ],
   "source": [
    "spark.sql('''SELECT n n2 n3 FROM my_df''')"
   ]
  },
  {
   "cell_type": "markdown",
   "id": "cd7db96e",
   "metadata": {},
   "source": [
    "#### iv. Write a query that shows all of the columns from your dataframe."
   ]
  },
  {
   "cell_type": "code",
   "execution_count": 117,
   "id": "a337ded3",
   "metadata": {},
   "outputs": [
    {
     "name": "stdout",
     "output_type": "stream",
     "text": [
      "+-----+-----+--------------------+--------------------+--------------------+\n",
      "|group|abool|                   n|                  n2|                  n3|\n",
      "+-----+-----+--------------------+--------------------+--------------------+\n",
      "|    z|false|  -0.712390662050588|   0.712390662050588|   0.507500455376875|\n",
      "|    x|false|   0.753766378659703|  -0.753766378659703|  0.5681637535977627|\n",
      "|    z|false|-0.04450307833805...|0.044503078338053455|0.001980523981562...|\n",
      "|    y|false| 0.45181233874578974|-0.45181233874578974| 0.20413438944294027|\n",
      "|    z|false|  1.3451017084510097| -1.3451017084510097|  1.8092986060778251|\n",
      "|    y|false|  0.5323378882945463| -0.5323378882945463|  0.2833836273138969|\n",
      "|    z|false|  1.3501878997225267| -1.3501878997225267|  1.8230073645571279|\n",
      "+-----+-----+--------------------+--------------------+--------------------+\n",
      "only showing top 7 rows\n",
      "\n"
     ]
    }
   ],
   "source": [
    "spark.sql('''SELECT * FROM my_df''').show(7)"
   ]
  },
  {
   "cell_type": "markdown",
   "id": "c58ee887",
   "metadata": {},
   "source": [
    "#### v. Write a query that shows just the n and abool columns from the dataframe."
   ]
  },
  {
   "cell_type": "code",
   "execution_count": 118,
   "id": "e1036777",
   "metadata": {},
   "outputs": [
    {
     "name": "stdout",
     "output_type": "stream",
     "text": [
      "+--------------------+-----+\n",
      "|                   n|abool|\n",
      "+--------------------+-----+\n",
      "|  -0.712390662050588|false|\n",
      "|   0.753766378659703|false|\n",
      "|-0.04450307833805...|false|\n",
      "| 0.45181233874578974|false|\n",
      "|  1.3451017084510097|false|\n",
      "|  0.5323378882945463|false|\n",
      "|  1.3501878997225267|false|\n",
      "+--------------------+-----+\n",
      "only showing top 7 rows\n",
      "\n"
     ]
    }
   ],
   "source": [
    "spark.sql('''SELECT n, abool FROM my_df''').show(7)"
   ]
  },
  {
   "cell_type": "markdown",
   "id": "cb4fed65",
   "metadata": {},
   "source": [
    "#### vi. Write a query that shows just the n and group columns. Rename the group column to g."
   ]
  },
  {
   "cell_type": "code",
   "execution_count": 119,
   "id": "97fe3ab8",
   "metadata": {},
   "outputs": [
    {
     "name": "stdout",
     "output_type": "stream",
     "text": [
      "+--------------------+---+\n",
      "|                   n|  g|\n",
      "+--------------------+---+\n",
      "|  -0.712390662050588|  z|\n",
      "|   0.753766378659703|  x|\n",
      "|-0.04450307833805...|  z|\n",
      "| 0.45181233874578974|  y|\n",
      "|  1.3451017084510097|  z|\n",
      "|  0.5323378882945463|  y|\n",
      "|  1.3501878997225267|  z|\n",
      "+--------------------+---+\n",
      "only showing top 7 rows\n",
      "\n"
     ]
    }
   ],
   "source": [
    "spark.sql('''SELECT n, group g FROM my_df''').show(7)"
   ]
  },
  {
   "cell_type": "markdown",
   "id": "b779756c",
   "metadata": {},
   "source": [
    "#### vii. Write a query that selects n, and creates two new columns: n2, the original n values halved, and n3: the original n values minus 1."
   ]
  },
  {
   "cell_type": "code",
   "execution_count": 120,
   "id": "a8dd1218",
   "metadata": {},
   "outputs": [
    {
     "name": "stdout",
     "output_type": "stream",
     "text": [
      "+--------------------+--------------------+--------------------+\n",
      "|                   n|                  n2|                  n3|\n",
      "+--------------------+--------------------+--------------------+\n",
      "|  -0.712390662050588|  -0.356195331025294|  -1.712390662050588|\n",
      "|   0.753766378659703|  0.3768831893298515|-0.24623362134029703|\n",
      "|-0.04450307833805...|-0.02225153916902...| -1.0445030783380536|\n",
      "| 0.45181233874578974| 0.22590616937289487| -0.5481876612542103|\n",
      "|  1.3451017084510097|  0.6725508542255049| 0.34510170845100974|\n",
      "|  0.5323378882945463| 0.26616894414727316| -0.4676621117054537|\n",
      "|  1.3501878997225267|  0.6750939498612634| 0.35018789972252673|\n",
      "+--------------------+--------------------+--------------------+\n",
      "only showing top 7 rows\n",
      "\n"
     ]
    }
   ],
   "source": [
    "spark.sql('''SELECT n, \n",
    "                    n / 2 as n2,\n",
    "                    n - 1 as n3\n",
    "                FROM my_df'''\n",
    "         ).show(7)"
   ]
  }
 ],
 "metadata": {
  "kernelspec": {
   "display_name": "Python 3 (ipykernel)",
   "language": "python",
   "name": "python3"
  },
  "language_info": {
   "codemirror_mode": {
    "name": "ipython",
    "version": 3
   },
   "file_extension": ".py",
   "mimetype": "text/x-python",
   "name": "python",
   "nbconvert_exporter": "python",
   "pygments_lexer": "ipython3",
   "version": "3.9.7"
  }
 },
 "nbformat": 4,
 "nbformat_minor": 5
}

{
 "cells": [
  {
   "cell_type": "code",
   "execution_count": 1,
   "id": "51eced36",
   "metadata": {},
   "outputs": [
    {
     "name": "stderr",
     "output_type": "stream",
     "text": [
      "WARNING: An illegal reflective access operation has occurred\n",
      "WARNING: Illegal reflective access by org.apache.spark.unsafe.Platform (file:/opt/homebrew/anaconda3/lib/python3.9/site-packages/pyspark/jars/spark-unsafe_2.12-3.2.1.jar) to constructor java.nio.DirectByteBuffer(long,int)\n",
      "WARNING: Please consider reporting this to the maintainers of org.apache.spark.unsafe.Platform\n",
      "WARNING: Use --illegal-access=warn to enable warnings of further illegal reflective access operations\n",
      "WARNING: All illegal access operations will be denied in a future release\n",
      "Using Spark's default log4j profile: org/apache/spark/log4j-defaults.properties\n",
      "Setting default log level to \"WARN\".\n",
      "To adjust logging level use sc.setLogLevel(newLevel). For SparkR, use setLogLevel(newLevel).\n",
      "22/05/20 14:57:04 WARN NativeCodeLoader: Unable to load native-hadoop library for your platform... using builtin-java classes where applicable\n"
     ]
    }
   ],
   "source": [
    "from pyspark.sql import SparkSession\n",
    "import pyspark.sql.functions as F\n",
    "import pandas as pd\n",
    "import numpy as np\n",
    "spark = SparkSession.builder.getOrCreate()"
   ]
  },
  {
   "cell_type": "code",
   "execution_count": 2,
   "id": "982ba04a",
   "metadata": {},
   "outputs": [],
   "source": [
    "def display(spark_df, rows=5):\n",
    "    '''takes in a spark dataframe and displays a given number of rows using pandas formatting (for convenience)'''\n",
    "    return spark_df.limit(rows).toPandas()"
   ]
  },
  {
   "cell_type": "markdown",
   "id": "1e606797",
   "metadata": {},
   "source": [
    "#### 1. Read the case, department, and source data into their own spark dataframes."
   ]
  },
  {
   "cell_type": "code",
   "execution_count": 3,
   "id": "8e1ff8bb",
   "metadata": {},
   "outputs": [
    {
     "name": "stderr",
     "output_type": "stream",
     "text": [
      "                                                                                \r"
     ]
    }
   ],
   "source": [
    "case = spark.read.csv('case.csv', \n",
    "                       sep=',', \n",
    "                       header=True, \n",
    "                       inferSchema=True)\n",
    "\n",
    "dept = spark.read.csv('dept.csv', \n",
    "                       sep=',', \n",
    "                       header=True, \n",
    "                       inferSchema=True)\n",
    "\n",
    "source = spark.read.csv('source.csv', \n",
    "                         sep=',', \n",
    "                         header=True,\n",
    "                         inferSchema=True)"
   ]
  },
  {
   "cell_type": "markdown",
   "id": "d5cc81b2",
   "metadata": {},
   "source": [
    "#### 2. Let's see how writing to the local disk works in spark:\n",
    "#### 2a. Write the code necessary to store the source data in both csv and json format, store these as sources_csv and sources_json\n",
    "\n"
   ]
  },
  {
   "cell_type": "code",
   "execution_count": 5,
   "id": "07dfa756",
   "metadata": {},
   "outputs": [],
   "source": [
    "source.write.json('source_json')\n",
    "source.write.csv('source_csv')"
   ]
  },
  {
   "cell_type": "markdown",
   "id": "9843c24f",
   "metadata": {},
   "source": [
    "#### 2b. Inspect your folder structure. What do you notice?\n",
    "\n",
    "source_csv and source_json are directories, not files"
   ]
  },
  {
   "cell_type": "code",
   "execution_count": 6,
   "id": "5c48c5d7",
   "metadata": {},
   "outputs": [
    {
     "name": "stdout",
     "output_type": "stream",
     "text": [
      "case.csv                    \u001b[1m\u001b[36msource_json\u001b[m\u001b[m/\r\n",
      "dept.csv                    \u001b[1m\u001b[36mspark-warehouse\u001b[m\u001b[m/\r\n",
      "history.txt                 spark101.ipynb\r\n",
      "source.csv                  spark_mini_exercises.ipynb\r\n",
      "\u001b[1m\u001b[36msource_csv\u001b[m\u001b[m/                 wrangle_notebook.ipynb\r\n"
     ]
    }
   ],
   "source": [
    "ls"
   ]
  },
  {
   "cell_type": "markdown",
   "id": "af25e314",
   "metadata": {},
   "source": [
    "#### 3. Inspect the data in your dataframes. Are the data types appropriate? Write the code necessary to cast the values to the appropriate types.\n"
   ]
  },
  {
   "cell_type": "code",
   "execution_count": 7,
   "id": "fa8a1540",
   "metadata": {},
   "outputs": [
    {
     "name": "stdout",
     "output_type": "stream",
     "text": [
      "-RECORD 0------------------------------------\n",
      " case_id              | 1014127332           \n",
      " case_opened_date     | 1/1/18 0:42          \n",
      " case_closed_date     | 1/1/18 12:29         \n",
      " SLA_due_date         | 9/26/20 0:42         \n",
      " case_late            | NO                   \n",
      " num_days_late        | -998.5087616000001   \n",
      " case_closed          | YES                  \n",
      " dept_division        | Field Operations     \n",
      " service_request_type | Stray Animal         \n",
      " SLA_days             | 999.0                \n",
      " case_status          | Closed               \n",
      " source_id            | svcCRMLS             \n",
      " request_address      | 2315  EL PASO ST,... \n",
      " council_district     | 5                    \n",
      "only showing top 1 row\n",
      "\n"
     ]
    }
   ],
   "source": [
    "case.show(1, vertical=True)"
   ]
  },
  {
   "cell_type": "code",
   "execution_count": 8,
   "id": "35899e70",
   "metadata": {},
   "outputs": [
    {
     "data": {
      "text/plain": [
       "[('case_id', 'int'),\n",
       " ('case_opened_date', 'string'),\n",
       " ('case_closed_date', 'string'),\n",
       " ('SLA_due_date', 'string'),\n",
       " ('case_late', 'string'),\n",
       " ('num_days_late', 'double'),\n",
       " ('case_closed', 'string'),\n",
       " ('dept_division', 'string'),\n",
       " ('service_request_type', 'string'),\n",
       " ('SLA_days', 'double'),\n",
       " ('case_status', 'string'),\n",
       " ('source_id', 'string'),\n",
       " ('request_address', 'string'),\n",
       " ('council_district', 'int')]"
      ]
     },
     "execution_count": 8,
     "metadata": {},
     "output_type": "execute_result"
    }
   ],
   "source": [
    "case.dtypes"
   ]
  },
  {
   "cell_type": "code",
   "execution_count": 9,
   "id": "04c01c57",
   "metadata": {},
   "outputs": [
    {
     "data": {
      "text/plain": [
       "[('case_id', 'string'),\n",
       " ('case_opened_date', 'timestamp'),\n",
       " ('case_closed_date', 'timestamp'),\n",
       " ('case_due_date', 'timestamp'),\n",
       " ('case_late', 'boolean'),\n",
       " ('num_days_late', 'double'),\n",
       " ('case_closed', 'boolean'),\n",
       " ('dept_division', 'string'),\n",
       " ('service_request_type', 'string'),\n",
       " ('SLA_days', 'double'),\n",
       " ('case_status', 'string'),\n",
       " ('source_id', 'string'),\n",
       " ('request_address', 'string'),\n",
       " ('council_district', 'string'),\n",
       " ('case_age', 'int'),\n",
       " ('days_to_closed', 'int'),\n",
       " ('case_lifetime', 'int')]"
      ]
     },
     "execution_count": 9,
     "metadata": {},
     "output_type": "execute_result"
    }
   ],
   "source": [
    "fmt = 'M/d/yy H:mm'\n",
    "\n",
    "case = (\n",
    "    case.withColumn('case_id', case.case_id.cast('string'))\n",
    "        .withColumn('case_opened_date', F.to_timestamp('case_opened_date', fmt))\n",
    "        .withColumn('case_closed_date', F.to_timestamp('case_closed_date', fmt))\n",
    "        .withColumnRenamed('SLA_due_date', 'case_due_date')\n",
    "        .withColumn('case_due_date', F.to_timestamp('case_due_date', fmt))\n",
    "        .withColumn('case_closed', F.expr('case_closed == \"YES\"'))\n",
    "        .withColumn('case_late', F.expr('case_late == \"YES\"'))\n",
    "        .withColumn('council_district', case.council_district.cast('string'))\n",
    "        .withColumn('case_age', F.datediff(F.current_timestamp(), 'case_opened_date'))\n",
    "        .withColumn('days_to_closed', F.datediff('case_closed_date', 'case_opened_date'))\n",
    "        .withColumn('case_lifetime', F.when(F.expr('! case_closed'), F.col('case_age'))\n",
    "                                      .otherwise(F.col('days_to_closed')))\n",
    ")  \n",
    "case.dtypes"
   ]
  },
  {
   "cell_type": "code",
   "execution_count": 10,
   "id": "bc62bbf9",
   "metadata": {},
   "outputs": [
    {
     "name": "stdout",
     "output_type": "stream",
     "text": [
      "-RECORD 0------------------------------------\n",
      " case_id              | 1014127332           \n",
      " case_opened_date     | 2018-01-01 00:42:00  \n",
      " case_closed_date     | 2018-01-01 12:29:00  \n",
      " case_due_date        | 2020-09-26 00:42:00  \n",
      " case_late            | false                \n",
      " num_days_late        | -998.5087616000001   \n",
      " case_closed          | true                 \n",
      " dept_division        | Field Operations     \n",
      " service_request_type | Stray Animal         \n",
      " SLA_days             | 999.0                \n",
      " case_status          | Closed               \n",
      " source_id            | svcCRMLS             \n",
      " request_address      | 2315  EL PASO ST,... \n",
      " council_district     | 5                    \n",
      " case_age             | 1600                 \n",
      " days_to_closed       | 0                    \n",
      " case_lifetime        | 0                    \n",
      "only showing top 1 row\n",
      "\n"
     ]
    }
   ],
   "source": [
    "case.show(1, vertical=True)"
   ]
  },
  {
   "cell_type": "markdown",
   "id": "125f2518",
   "metadata": {},
   "source": [
    "#### 1. How old is the latest (in terms of days past SLA) currently open issue? How long has the oldest (in terms of days since opened) currently opened issue been open?"
   ]
  },
  {
   "cell_type": "code",
   "execution_count": 11,
   "id": "e2c35cc7",
   "metadata": {},
   "outputs": [],
   "source": [
    "open_cases = case.filter(~F.col('case_closed'))"
   ]
  },
  {
   "cell_type": "code",
   "execution_count": 12,
   "id": "b8b76a96",
   "metadata": {},
   "outputs": [
    {
     "name": "stderr",
     "output_type": "stream",
     "text": [
      "\r",
      "[Stage 10:>                                                         (0 + 8) / 8]\r"
     ]
    },
    {
     "name": "stdout",
     "output_type": "stream",
     "text": [
      "+-------------+\n",
      "|max(case_age)|\n",
      "+-------------+\n",
      "|         1965|\n",
      "+-------------+\n",
      "\n"
     ]
    },
    {
     "name": "stderr",
     "output_type": "stream",
     "text": [
      "\r",
      "                                                                                \r"
     ]
    }
   ],
   "source": [
    "case.select(F.max('case_age')).show()"
   ]
  },
  {
   "cell_type": "markdown",
   "id": "f136b1d3",
   "metadata": {},
   "source": [
    "#### 2. How many Stray Animal cases are there?"
   ]
  },
  {
   "cell_type": "code",
   "execution_count": 13,
   "id": "c15b9c60",
   "metadata": {},
   "outputs": [
    {
     "name": "stderr",
     "output_type": "stream",
     "text": [
      "                                                                                \r"
     ]
    },
    {
     "data": {
      "text/plain": [
       "26760"
      ]
     },
     "execution_count": 13,
     "metadata": {},
     "output_type": "execute_result"
    }
   ],
   "source": [
    "case.filter(F.col('service_request_type') == 'Stray Animal').count()"
   ]
  },
  {
   "cell_type": "markdown",
   "id": "bce77b5e",
   "metadata": {},
   "source": [
    "#### 3. How many service requests that are assigned to the Field Operations department (dept_division) are not classified as \"Officer Standby\" request type (service_request_type)?\n"
   ]
  },
  {
   "cell_type": "code",
   "execution_count": 14,
   "id": "b71bd3fb",
   "metadata": {},
   "outputs": [
    {
     "name": "stderr",
     "output_type": "stream",
     "text": [
      "                                                                                \r"
     ]
    },
    {
     "data": {
      "text/plain": [
       "113902"
      ]
     },
     "execution_count": 14,
     "metadata": {},
     "output_type": "execute_result"
    }
   ],
   "source": [
    "field_ops_cases = case.filter(F.col('dept_division') == 'Field Operations')\n",
    "field_ops_cases.filter(F.col('service_request_type') != 'Officer Standby').count()"
   ]
  },
  {
   "cell_type": "markdown",
   "id": "19d56eb6",
   "metadata": {},
   "source": [
    "#### 4. Convert the council_district column to a string column.\n",
    "\n",
    "see column transformations in the first #3 above"
   ]
  },
  {
   "cell_type": "markdown",
   "id": "09326da2",
   "metadata": {},
   "source": [
    "#### 5. Extract the year from the case_closed_date column."
   ]
  },
  {
   "cell_type": "code",
   "execution_count": 15,
   "id": "5d1b116a",
   "metadata": {},
   "outputs": [],
   "source": [
    "case = case.withColumn('year_closed', F.year('case_closed_date'))"
   ]
  },
  {
   "cell_type": "markdown",
   "id": "0fb990b6",
   "metadata": {},
   "source": [
    "#### 6. Convert num_days_late from days to hours in new columns num_hours_late.\n"
   ]
  },
  {
   "cell_type": "code",
   "execution_count": 16,
   "id": "64ceadf8",
   "metadata": {},
   "outputs": [],
   "source": [
    "case = case.withColumn('num_hours_late', F.col('num_days_late')*24)"
   ]
  },
  {
   "cell_type": "markdown",
   "id": "894913ac",
   "metadata": {},
   "source": [
    "#### 7. Join the case data with the source and department data."
   ]
  },
  {
   "cell_type": "code",
   "execution_count": 17,
   "id": "733cdf47",
   "metadata": {},
   "outputs": [],
   "source": [
    "df = (\n",
    "    case.join(source, on='source_id', how='left')\n",
    "        .join(dept, on='dept_division', how='left')\n",
    "        .drop('dept_name')\n",
    "        .withColumnRenamed('standardized_dept_name', 'department')\n",
    "        .withColumn('dept_subject_to_SLA', (F.col('dept_subject_to_SLA') == 'YES'))\n",
    ")"
   ]
  },
  {
   "cell_type": "markdown",
   "id": "450c674b",
   "metadata": {},
   "source": [
    "#### 8. Are there any cases that do not have a request source?\n"
   ]
  },
  {
   "cell_type": "code",
   "execution_count": 18,
   "id": "555a899d",
   "metadata": {},
   "outputs": [
    {
     "name": "stderr",
     "output_type": "stream",
     "text": [
      "                                                                                \r"
     ]
    },
    {
     "data": {
      "text/plain": [
       "0"
      ]
     },
     "execution_count": 18,
     "metadata": {},
     "output_type": "execute_result"
    }
   ],
   "source": [
    "df.filter(\n",
    "          F.col('source_id').isNull()\n",
    "        | F.isnan('source_id')\n",
    "        | (F.col('source_id') == '')\n",
    ").count()"
   ]
  },
  {
   "cell_type": "markdown",
   "id": "d1b16d49",
   "metadata": {},
   "source": [
    "#### 9. What are the top 10 service request types in terms of number of requests?\n"
   ]
  },
  {
   "cell_type": "code",
   "execution_count": 19,
   "id": "f2041681",
   "metadata": {},
   "outputs": [
    {
     "name": "stderr",
     "output_type": "stream",
     "text": [
      "[Stage 26:==========================================================(8 + 0) / 8]\r"
     ]
    },
    {
     "name": "stdout",
     "output_type": "stream",
     "text": [
      "+--------------------------------+-----+\n",
      "|service_request_type            |count|\n",
      "+--------------------------------+-----+\n",
      "|No Pickup                       |89210|\n",
      "|Overgrown Yard/Trash            |66403|\n",
      "|Bandit Signs                    |32968|\n",
      "|Damaged Cart                    |31163|\n",
      "|Front Or Side Yard Parking      |28920|\n",
      "|Stray Animal                    |27361|\n",
      "|Aggressive Animal(Non-Critical) |25492|\n",
      "|Cart Exchange Request           |22608|\n",
      "|Junk Vehicle On Private Property|21649|\n",
      "|Pot Hole Repair                 |20827|\n",
      "+--------------------------------+-----+\n",
      "only showing top 10 rows\n",
      "\n"
     ]
    },
    {
     "name": "stderr",
     "output_type": "stream",
     "text": [
      "\r",
      "                                                                                \r"
     ]
    }
   ],
   "source": [
    "(\n",
    "    df.groupby('service_request_type')\n",
    "      .count()\n",
    "      .sort(F.col('count').desc())\n",
    "      .show(10, truncate=False)\n",
    ")"
   ]
  },
  {
   "cell_type": "markdown",
   "id": "f98f4f46",
   "metadata": {},
   "source": [
    "#### 10. What are the top 10 service request types in terms of average days late?"
   ]
  },
  {
   "cell_type": "code",
   "execution_count": 20,
   "id": "82fd942e",
   "metadata": {},
   "outputs": [
    {
     "name": "stderr",
     "output_type": "stream",
     "text": [
      "\r",
      "[Stage 31:>                                                         (0 + 8) / 8]\r"
     ]
    },
    {
     "name": "stdout",
     "output_type": "stream",
     "text": [
      "+--------------------------------------+------------------+\n",
      "|service_request_type                  |avg(num_days_late)|\n",
      "+--------------------------------------+------------------+\n",
      "|Zoning: Junk Yards                    |175.95636210420943|\n",
      "|Labeling for Used Mattress            |162.43032902285717|\n",
      "|Record Keeping of Used Mattresses     |153.99724039428568|\n",
      "|Signage Requied for Sale of Used Mattr|151.63868055333333|\n",
      "|Storage of Used Mattress              |142.11255641500003|\n",
      "|Zoning: Recycle Yard                  |135.92851612479797|\n",
      "|Donation Container Enforcement        |131.75610506358706|\n",
      "|License Requied Used Mattress Sales   |128.79828704142858|\n",
      "|Traffic Signal Graffiti               |101.79846062200002|\n",
      "|Complaint                             |72.8705023031169  |\n",
      "+--------------------------------------+------------------+\n",
      "only showing top 10 rows\n",
      "\n"
     ]
    },
    {
     "name": "stderr",
     "output_type": "stream",
     "text": [
      "\r",
      "                                                                                \r"
     ]
    }
   ],
   "source": [
    "(\n",
    "    df.groupby('service_request_type')\n",
    "      .agg(F.mean('num_days_late'))\n",
    "      .sort(F.col('avg(num_days_late)').desc())\n",
    "      .show(10, truncate=False)\n",
    ")"
   ]
  },
  {
   "cell_type": "markdown",
   "id": "dc340a9e",
   "metadata": {},
   "source": [
    "#### 11. Does number of days late depend on department?"
   ]
  },
  {
   "cell_type": "code",
   "execution_count": 21,
   "id": "569cc3d4",
   "metadata": {},
   "outputs": [
    {
     "name": "stderr",
     "output_type": "stream",
     "text": [
      "\r",
      "[Stage 36:>                                                         (0 + 8) / 8]\r"
     ]
    },
    {
     "name": "stdout",
     "output_type": "stream",
     "text": [
      "+--------------------+-------------------+\n",
      "|          department| avg(num_days_late)|\n",
      "+--------------------+-------------------+\n",
      "|    Customer Service|  59.73709149630077|\n",
      "|         Solid Waste| -2.200057513672164|\n",
      "|        Metro Health| -4.911766979607004|\n",
      "|  Parks & Recreation| -5.251521960055145|\n",
      "|Trans & Cap Impro...|-20.612837354052708|\n",
      "|DSD/Code Enforcement| -38.36938892614506|\n",
      "|Animal Care Services|-226.51783940550334|\n",
      "|        City Council|               null|\n",
      "+--------------------+-------------------+\n",
      "\n"
     ]
    },
    {
     "name": "stderr",
     "output_type": "stream",
     "text": [
      "\r",
      "                                                                                \r"
     ]
    }
   ],
   "source": [
    "(\n",
    "    df.groupby('department')\n",
    "      .agg(F.mean('num_days_late'))\n",
    "      .sort(F.col('avg(num_days_late)').desc())\n",
    "      .show()\n",
    ")"
   ]
  },
  {
   "cell_type": "markdown",
   "id": "a907b21e",
   "metadata": {},
   "source": [
    "#### 12. How do number of days late depend on department and request type?"
   ]
  },
  {
   "cell_type": "code",
   "execution_count": 22,
   "id": "4d69270a",
   "metadata": {},
   "outputs": [
    {
     "name": "stderr",
     "output_type": "stream",
     "text": [
      "\r",
      "[Stage 41:>                                                         (0 + 8) / 8]\r"
     ]
    },
    {
     "name": "stdout",
     "output_type": "stream",
     "text": [
      "+--------------------+--------------------------------------+--------------------+\n",
      "|department          |service_request_type                  |avg(num_days_late)  |\n",
      "+--------------------+--------------------------------------+--------------------+\n",
      "|Animal Care Services|Aggressive Animal(Critical)           |16.69636881189224   |\n",
      "|Animal Care Services|Aggressive Animal(Non-Critical)       |2.645033883163268   |\n",
      "|Animal Care Services|Animal Bite(Critical)                 |0.019096834813110173|\n",
      "|Animal Care Services|Animal Bite(Non-Critical)             |-2.505667547973447  |\n",
      "|Animal Care Services|Animal Cruelty(Critical)              |-0.06219277353522766|\n",
      "|Animal Care Services|Animal Neglect                        |7.332927878069383   |\n",
      "|Animal Care Services|Animal Permits Request                |22.19792271447681   |\n",
      "|Animal Care Services|City Council Animal Request           |-1.5475013634821913 |\n",
      "|Animal Care Services|Injured Animal(Critical)              |-0.06529248474639532|\n",
      "|Animal Care Services|Officer Standby                       |-0.06756953501177047|\n",
      "|Animal Care Services|Public Nuisance(Own Animal)           |-2.204561124319811  |\n",
      "|Animal Care Services|Spay/Neuter Request Response          |-6.976550926        |\n",
      "|Animal Care Services|Stray Animal                          |-998.8064665118969  |\n",
      "|Animal Care Services|Trapped/Confined Animal               |0.2490480196887205  |\n",
      "|City Council        |CCO_Request for Research/Information_1|null                |\n",
      "|City Council        |Request for Research/Information      |null                |\n",
      "|Customer Service    |Complaint                             |72.8705023031169    |\n",
      "|Customer Service    |Compliment                            |-8.030188146545843  |\n",
      "|DSD/Code Enforcement|\"Vacant Lot-City (12\"\")\"              |-45.218779679391076 |\n",
      "|DSD/Code Enforcement|\"Vacant Lot-City (48\"\")\"              |-42.632767744083644 |\n",
      "+--------------------+--------------------------------------+--------------------+\n",
      "only showing top 20 rows\n",
      "\n"
     ]
    },
    {
     "name": "stderr",
     "output_type": "stream",
     "text": [
      "\r",
      "                                                                                \r"
     ]
    }
   ],
   "source": [
    "(\n",
    "    df.groupby('department', 'service_request_type')\n",
    "      .agg(F.mean('num_days_late'))\n",
    "      .sort('department', 'service_request_type')\n",
    "      .show(truncate=False)\n",
    ")"
   ]
  },
  {
   "cell_type": "code",
   "execution_count": 23,
   "id": "a298c01f",
   "metadata": {},
   "outputs": [
    {
     "data": {
      "text/html": [
       "<div>\n",
       "<style scoped>\n",
       "    .dataframe tbody tr th:only-of-type {\n",
       "        vertical-align: middle;\n",
       "    }\n",
       "\n",
       "    .dataframe tbody tr th {\n",
       "        vertical-align: top;\n",
       "    }\n",
       "\n",
       "    .dataframe thead th {\n",
       "        text-align: right;\n",
       "    }\n",
       "</style>\n",
       "<table border=\"1\" class=\"dataframe\">\n",
       "  <thead>\n",
       "    <tr style=\"text-align: right;\">\n",
       "      <th></th>\n",
       "      <th>dept_division</th>\n",
       "      <th>source_id</th>\n",
       "      <th>case_id</th>\n",
       "      <th>case_opened_date</th>\n",
       "      <th>case_closed_date</th>\n",
       "      <th>case_due_date</th>\n",
       "      <th>case_late</th>\n",
       "      <th>num_days_late</th>\n",
       "      <th>case_closed</th>\n",
       "      <th>service_request_type</th>\n",
       "      <th>...</th>\n",
       "      <th>request_address</th>\n",
       "      <th>council_district</th>\n",
       "      <th>case_age</th>\n",
       "      <th>days_to_closed</th>\n",
       "      <th>case_lifetime</th>\n",
       "      <th>year_closed</th>\n",
       "      <th>num_hours_late</th>\n",
       "      <th>source_username</th>\n",
       "      <th>department</th>\n",
       "      <th>dept_subject_to_SLA</th>\n",
       "    </tr>\n",
       "  </thead>\n",
       "  <tbody>\n",
       "    <tr>\n",
       "      <th>0</th>\n",
       "      <td>Field Operations</td>\n",
       "      <td>svcCRMLS</td>\n",
       "      <td>1014127332</td>\n",
       "      <td>2018-01-01 00:42:00</td>\n",
       "      <td>2018-01-01 12:29:00</td>\n",
       "      <td>2020-09-26 00:42:00</td>\n",
       "      <td>False</td>\n",
       "      <td>-998.508762</td>\n",
       "      <td>True</td>\n",
       "      <td>Stray Animal</td>\n",
       "      <td>...</td>\n",
       "      <td>2315  EL PASO ST, San Antonio, 78207</td>\n",
       "      <td>5</td>\n",
       "      <td>1600</td>\n",
       "      <td>0</td>\n",
       "      <td>0</td>\n",
       "      <td>2018</td>\n",
       "      <td>-23964.210278</td>\n",
       "      <td>svcCRMLS</td>\n",
       "      <td>Animal Care Services</td>\n",
       "      <td>True</td>\n",
       "    </tr>\n",
       "    <tr>\n",
       "      <th>1</th>\n",
       "      <td>Storm Water</td>\n",
       "      <td>svcCRMSS</td>\n",
       "      <td>1014127333</td>\n",
       "      <td>2018-01-01 00:46:00</td>\n",
       "      <td>2018-01-03 08:11:00</td>\n",
       "      <td>2018-01-05 08:30:00</td>\n",
       "      <td>False</td>\n",
       "      <td>-2.012604</td>\n",
       "      <td>True</td>\n",
       "      <td>Removal Of Obstruction</td>\n",
       "      <td>...</td>\n",
       "      <td>2215  GOLIAD RD, San Antonio, 78223</td>\n",
       "      <td>3</td>\n",
       "      <td>1600</td>\n",
       "      <td>2</td>\n",
       "      <td>2</td>\n",
       "      <td>2018</td>\n",
       "      <td>-48.302500</td>\n",
       "      <td>svcCRMSS</td>\n",
       "      <td>Trans &amp; Cap Improvements</td>\n",
       "      <td>True</td>\n",
       "    </tr>\n",
       "    <tr>\n",
       "      <th>2</th>\n",
       "      <td>Storm Water</td>\n",
       "      <td>svcCRMSS</td>\n",
       "      <td>1014127334</td>\n",
       "      <td>2018-01-01 00:48:00</td>\n",
       "      <td>2018-01-02 07:57:00</td>\n",
       "      <td>2018-01-05 08:30:00</td>\n",
       "      <td>False</td>\n",
       "      <td>-3.022338</td>\n",
       "      <td>True</td>\n",
       "      <td>Removal Of Obstruction</td>\n",
       "      <td>...</td>\n",
       "      <td>102  PALFREY ST W, San Antonio, 78223</td>\n",
       "      <td>3</td>\n",
       "      <td>1600</td>\n",
       "      <td>1</td>\n",
       "      <td>1</td>\n",
       "      <td>2018</td>\n",
       "      <td>-72.536111</td>\n",
       "      <td>svcCRMSS</td>\n",
       "      <td>Trans &amp; Cap Improvements</td>\n",
       "      <td>True</td>\n",
       "    </tr>\n",
       "  </tbody>\n",
       "</table>\n",
       "<p>3 rows × 22 columns</p>\n",
       "</div>"
      ],
      "text/plain": [
       "      dept_division source_id     case_id    case_opened_date  \\\n",
       "0  Field Operations  svcCRMLS  1014127332 2018-01-01 00:42:00   \n",
       "1       Storm Water  svcCRMSS  1014127333 2018-01-01 00:46:00   \n",
       "2       Storm Water  svcCRMSS  1014127334 2018-01-01 00:48:00   \n",
       "\n",
       "     case_closed_date       case_due_date  case_late  num_days_late  \\\n",
       "0 2018-01-01 12:29:00 2020-09-26 00:42:00      False    -998.508762   \n",
       "1 2018-01-03 08:11:00 2018-01-05 08:30:00      False      -2.012604   \n",
       "2 2018-01-02 07:57:00 2018-01-05 08:30:00      False      -3.022338   \n",
       "\n",
       "   case_closed    service_request_type  ...  \\\n",
       "0         True            Stray Animal  ...   \n",
       "1         True  Removal Of Obstruction  ...   \n",
       "2         True  Removal Of Obstruction  ...   \n",
       "\n",
       "                         request_address council_district case_age  \\\n",
       "0   2315  EL PASO ST, San Antonio, 78207                5     1600   \n",
       "1    2215  GOLIAD RD, San Antonio, 78223                3     1600   \n",
       "2  102  PALFREY ST W, San Antonio, 78223                3     1600   \n",
       "\n",
       "  days_to_closed  case_lifetime  year_closed  num_hours_late  source_username  \\\n",
       "0              0              0         2018   -23964.210278         svcCRMLS   \n",
       "1              2              2         2018      -48.302500         svcCRMSS   \n",
       "2              1              1         2018      -72.536111         svcCRMSS   \n",
       "\n",
       "                 department dept_subject_to_SLA  \n",
       "0      Animal Care Services                True  \n",
       "1  Trans & Cap Improvements                True  \n",
       "2  Trans & Cap Improvements                True  \n",
       "\n",
       "[3 rows x 22 columns]"
      ]
     },
     "execution_count": 23,
     "metadata": {},
     "output_type": "execute_result"
    },
    {
     "name": "stderr",
     "output_type": "stream",
     "text": [
      "22/05/20 19:24:34 WARN HeartbeatReceiver: Removing executor driver with no recent heartbeats: 1630955 ms exceeds timeout 120000 ms\n",
      "22/05/20 19:24:34 WARN SparkContext: Killing executors is not supported by current scheduler.\n"
     ]
    }
   ],
   "source": [
    "display(df, rows=3)"
   ]
  }
 ],
 "metadata": {
  "kernelspec": {
   "display_name": "Python 3 (ipykernel)",
   "language": "python",
   "name": "python3"
  },
  "language_info": {
   "codemirror_mode": {
    "name": "ipython",
    "version": 3
   },
   "file_extension": ".py",
   "mimetype": "text/x-python",
   "name": "python",
   "nbconvert_exporter": "python",
   "pygments_lexer": "ipython3",
   "version": "3.9.7"
  }
 },
 "nbformat": 4,
 "nbformat_minor": 5
}
